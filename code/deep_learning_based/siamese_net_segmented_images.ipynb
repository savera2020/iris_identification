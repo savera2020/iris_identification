{
 "cells": [
  {
   "cell_type": "code",
   "execution_count": 1,
   "metadata": {},
   "outputs": [],
   "source": [
    "import cv2 \n",
    "import numpy as np\n",
    "import glob\n",
    "import os\n",
    "from itertools import combinations \n",
    "from itertools import product\n",
    "import random\n",
    "import matplotlib.pyplot as plt"
   ]
  },
  {
   "cell_type": "code",
   "execution_count": 2,
   "metadata": {},
   "outputs": [
    {
     "name": "stderr",
     "output_type": "stream",
     "text": [
      "Using TensorFlow backend.\n"
     ]
    }
   ],
   "source": [
    "import keras \n",
    "from keras.layers import Dense, MaxPooling2D, Convolution2D, Dropout, Input, Flatten, Subtract, merge,Conv2D,Lambda\n",
    "from keras.layers.normalization import BatchNormalization\n",
    "from keras import backend as K\n",
    "from keras.models import Model,Sequential\n",
    "#from keras.initializers.h as \n",
    "from tensorflow.keras.models import load_model\n",
    "from keras.regularizers import l2 "
   ]
  },
  {
   "cell_type": "code",
   "execution_count": 3,
   "metadata": {},
   "outputs": [],
   "source": [
    "model_save_path = '/tensorflow/unet_model_iitd.h5'"
   ]
  },
  {
   "cell_type": "code",
   "execution_count": 4,
   "metadata": {},
   "outputs": [],
   "source": [
    "unetmodel = load_model(model_save_path)"
   ]
  },
  {
   "cell_type": "code",
   "execution_count": 5,
   "metadata": {},
   "outputs": [],
   "source": [
    "def segment_image(unetmodel,img_in):\n",
    "    out_mask = img_in.copy()\n",
    "    img_in_4_d = np.expand_dims(img_in/255.0, axis=0)\n",
    "    mask1 = unetmodel.predict(img_in_4_d)\n",
    "\n",
    "    mask = np.squeeze(mask1)\n",
    "    \n",
    "    out_mask[mask <  .5] = 0\n",
    "    #out_mask[mask < .5,1] = 0\n",
    "    #out_mask[mask < .5,3] = 0\n",
    "    \n",
    "    return out_mask\n",
    "    "
   ]
  },
  {
   "cell_type": "code",
   "execution_count": 6,
   "metadata": {},
   "outputs": [],
   "source": [
    "        \n",
    "#img1_0 = cv2.imread(path_input_images + folder_name + '/'+ str(pos_comb1[i][0]).zfill(2)+'.bmp')\n",
    "#img1_0 = cv2.resize(img1_0,(128,128))\n",
    "#out_img = segment_image(unetmodel,img1_0)\n",
    "#plt.imshow(out_img)"
   ]
  },
  {
   "cell_type": "code",
   "execution_count": null,
   "metadata": {},
   "outputs": [],
   "source": []
  },
  {
   "cell_type": "code",
   "execution_count": 6,
   "metadata": {},
   "outputs": [],
   "source": [
    "path_input_images =  '/tensorflow/IITD Database/'"
   ]
  },
  {
   "cell_type": "code",
   "execution_count": 18,
   "metadata": {},
   "outputs": [],
   "source": [
    "folder_name_list = np.sort(os.listdir(path_input_images))\n",
    "out1= np.zeros((8000,128,128,3),'float')\n",
    "out2= np.zeros((8000,128,128,3),'float')\n",
    "\n",
    "pos_comb1 = np.array(list(combinations([1, 2, 3, 4, 5], 2)))\n",
    "pos_comb2 = np.array(list(combinations([6, 7, 8, 9, 10], 2)))\n",
    "\n",
    "neg_comb1 = np.array(list(product([2,3,4,5], [8,9,10])))\n",
    "\n",
    "count = 0\n",
    "y = []\n",
    "for folder_name in folder_name_list[:200]:\n",
    "    \n",
    "    for i in range (len(pos_comb1)):\n",
    "        \n",
    "        img1_0 = cv2.imread(path_input_images + folder_name + '/'+ str(pos_comb1[i][0]).zfill(2)+'.bmp')\n",
    "        img1_0 = cv2.resize(img1_0,(128,128))\n",
    "        img1_0 = segment_image(unetmodel,img1_0)\n",
    "        \n",
    "        \n",
    "        img1_1 = cv2.imread(path_input_images + folder_name + '/'+ str(pos_comb1[i][1]).zfill(2)+'.bmp')\n",
    "        img1_1 = cv2.resize(img1_1,(128,128))\n",
    "        img1_1 = segment_image(unetmodel,img1_1)\n",
    "        out1[count]  = img1_0\n",
    "        out2[count]  = img1_1\n",
    "        count = count+1\n",
    "        y.append(0.0)\n",
    "        \n",
    "        img2_0 = cv2.imread(path_input_images + folder_name + '/'+ str(pos_comb2[i][0]).zfill(2)+'.bmp')\n",
    "        img2_1 = cv2.imread(path_input_images + folder_name + '/'+ str(pos_comb2[i][1]).zfill(2)+'.bmp')\n",
    "        img2_0 = cv2.resize(img2_0,(128,128))\n",
    "        img2_1 = cv2.resize(img2_1,(128,128))\n",
    "        img2_0 = segment_image(unetmodel,img2_0)\n",
    "        img2_1 = segment_image(unetmodel,img2_1)\n",
    "        \n",
    "        out1[count]  = img2_0\n",
    "        out2[count]  = img2_1\n",
    "        y.append(0.0)\n",
    "        count = count+1\n",
    "        \n",
    "        img3_0 = cv2.imread(path_input_images + folder_name + '/'+ str(neg_comb1[i][0]).zfill(2)+'.bmp')\n",
    "        img3_1 = cv2.imread(path_input_images + folder_name + '/'+ str(neg_comb1[i][1]).zfill(2)+'.bmp') \n",
    "        \n",
    "        img3_0 = cv2.resize(img3_0,(128,128))\n",
    "        img3_1 = cv2.resize(img3_1,(128,128))\n",
    "        img3_0 = segment_image(unetmodel,img3_0)\n",
    "        img3_1 = segment_image(unetmodel,img3_1)        \n",
    "        out1[count]  = img3_0\n",
    "        out2[count]  = img3_1\n",
    "        y.append(1.0)\n",
    "        count = count+1\n",
    "        \n",
    "        folder_name1 = str(int(folder_name) + 3).zfill(3) \n",
    "        \n",
    "        img4_0 = cv2.imread(path_input_images + folder_name + '/'+ str(pos_comb1[i][0]).zfill(2)+'.bmp')\n",
    "        img4_1 = cv2.imread(path_input_images + folder_name1 + '/'+ str(pos_comb1[i][1]).zfill(2)+'.bmp') \n",
    "        img4_0 = cv2.resize(img4_0,(128,128))\n",
    "        img4_1 = cv2.resize(img4_1,(128,128))\n",
    "        img4_0 = segment_image(unetmodel,img4_0)\n",
    "        img4_1 = segment_image(unetmodel,img4_1)           \n",
    "        out1[count]  = img4_0\n",
    "        out2[count]  = img4_1\n",
    "        y.append(1.0)\n",
    "        count = count+1\n",
    "        #print(count) "
   ]
  },
  {
   "cell_type": "code",
   "execution_count": 19,
   "metadata": {},
   "outputs": [],
   "source": [
    "\n",
    "out1 = out1/255.\n",
    "out2 = out2/255."
   ]
  },
  {
   "cell_type": "code",
   "execution_count": 10,
   "metadata": {},
   "outputs": [
    {
     "name": "stdout",
     "output_type": "stream",
     "text": [
      "X_train shape: (8000, 128, 128, 3)\n"
     ]
    }
   ],
   "source": [
    "print (\"X_train shape: \" + str(out1.shape))\n"
   ]
  },
  {
   "cell_type": "code",
   "execution_count": 11,
   "metadata": {},
   "outputs": [
    {
     "data": {
      "text/plain": [
       "'/tensorflow/IITD Database/200/02.bmp'"
      ]
     },
     "execution_count": 11,
     "metadata": {},
     "output_type": "execute_result"
    }
   ],
   "source": [
    "path_input_images + folder_name + '/'+ str(neg_comb1[1][0]).zfill(2)+'.bmp'"
   ]
  },
  {
   "cell_type": "code",
   "execution_count": 12,
   "metadata": {},
   "outputs": [
    {
     "data": {
      "text/plain": [
       "'/tensorflow/IITD Database/200/09.bmp'"
      ]
     },
     "execution_count": 12,
     "metadata": {},
     "output_type": "execute_result"
    }
   ],
   "source": [
    "path_input_images + folder_name + '/'+ str(neg_comb1[1][1]).zfill(2)+'.bmp'"
   ]
  },
  {
   "cell_type": "code",
   "execution_count": 13,
   "metadata": {},
   "outputs": [
    {
     "data": {
      "text/plain": [
       "<matplotlib.image.AxesImage at 0x7f9f329d0278>"
      ]
     },
     "execution_count": 13,
     "metadata": {},
     "output_type": "execute_result"
    },
    {
     "data": {
      "image/png": "[encoded data removed]",
      "text/plain": [
       "<Figure size 432x288 with 1 Axes>"
      ]
     },
     "metadata": {
      "needs_background": "light"
     },
     "output_type": "display_data"
    }
   ],
   "source": [
    "plt.imshow(out1[3])"
   ]
  },
  {
   "cell_type": "code",
   "execution_count": 14,
   "metadata": {},
   "outputs": [],
   "source": [
    "initialize_weights = 'he_normal'\n",
    "initialize_bias = 'he_normal'"
   ]
  },
  {
   "cell_type": "code",
   "execution_count": 15,
   "metadata": {},
   "outputs": [],
   "source": [
    "def Siamese_model(input_shape):\n",
    "    \"\"\"\n",
    "        Model architecture\n",
    "    \"\"\"\n",
    "    \n",
    "    # Define the tensors for the two input images\n",
    "    left_input = Input(input_shape)\n",
    "    right_input = Input(input_shape)\n",
    "    \n",
    "    # Convolutional Neural Network\n",
    "    model = Sequential()\n",
    "    model.add(Conv2D(64, (10,10), activation='relu', input_shape=input_shape,\n",
    "                   kernel_initializer=initialize_weights, kernel_regularizer=l2(2e-4)))\n",
    "    model.add(MaxPooling2D())\n",
    "    model.add(Conv2D(128, (7,7), activation='relu',\n",
    "                     kernel_initializer=initialize_weights,\n",
    "                     bias_initializer=initialize_bias, kernel_regularizer=l2(2e-4)))\n",
    "    model.add(MaxPooling2D())\n",
    "    model.add(Conv2D(128, (4,4), activation='relu', kernel_initializer=initialize_weights,\n",
    "                     bias_initializer=initialize_bias, kernel_regularizer=l2(2e-4)))\n",
    "    model.add(MaxPooling2D())\n",
    "    model.add(Conv2D(256, (4,4), activation='relu', kernel_initializer=initialize_weights,\n",
    "                     bias_initializer=initialize_bias, kernel_regularizer=l2(2e-4)))\n",
    "    model.add(Flatten())\n",
    "    model.add(Dense(4096, activation='sigmoid',\n",
    "                   kernel_regularizer=l2(1e-3),\n",
    "                   kernel_initializer=initialize_weights,bias_initializer=initialize_bias))\n",
    "    \n",
    "    # Generate the encodings (feature vectors) for the two images\n",
    "    encoded_l = model(left_input)\n",
    "    encoded_r = model(right_input)\n",
    "    \n",
    "    # Add a customized layer to compute the absolute difference between the encodings\n",
    "    L1_layer = Lambda(lambda tensors:K.abs(tensors[0] - tensors[1]))\n",
    "    L1_distance = L1_layer([encoded_l, encoded_r])\n",
    "    \n",
    "    # Add a dense layer with a sigmoid unit to generate the similarity score\n",
    "    prediction = Dense(1,activation='sigmoid',bias_initializer=initialize_bias)(L1_distance)\n",
    "    \n",
    "    # Connect the inputs with the outputs\n",
    "    siamese_net = Model(inputs=[left_input,right_input],outputs=prediction,name='Siamese_model')\n",
    "    \n",
    "    # return the model\n",
    "    return siamese_net"
   ]
  },
  {
   "cell_type": "code",
   "execution_count": 16,
   "metadata": {},
   "outputs": [],
   "source": [
    "siamese_model = Siamese_model((128,128,3))"
   ]
  },
  {
   "cell_type": "code",
   "execution_count": 17,
   "metadata": {},
   "outputs": [
    {
     "name": "stdout",
     "output_type": "stream",
     "text": [
      "__________________________________________________________________________________________________\n",
      "Layer (type)                    Output Shape         Param #     Connected to                     \n",
      "==================================================================================================\n",
      "input_1 (InputLayer)            (None, 128, 128, 3)  0                                            \n",
      "__________________________________________________________________________________________________\n",
      "input_2 (InputLayer)            (None, 128, 128, 3)  0                                            \n",
      "__________________________________________________________________________________________________\n",
      "sequential_1 (Sequential)       (None, 4096)         68320576    input_1[0][0]                    \n",
      "                                                                 input_2[0][0]                    \n",
      "__________________________________________________________________________________________________\n",
      "lambda_1 (Lambda)               (None, 4096)         0           sequential_1[1][0]               \n",
      "                                                                 sequential_1[2][0]               \n",
      "__________________________________________________________________________________________________\n",
      "dense_2 (Dense)                 (None, 1)            4097        lambda_1[0][0]                   \n",
      "==================================================================================================\n",
      "Total params: 68,324,673\n",
      "Trainable params: 68,324,673\n",
      "Non-trainable params: 0\n",
      "__________________________________________________________________________________________________\n"
     ]
    }
   ],
   "source": [
    "siamese_model.summary()"
   ]
  },
  {
   "cell_type": "code",
   "execution_count": 18,
   "metadata": {},
   "outputs": [],
   "source": [
    "optimizer = keras.optimizers.Adam(lr = 0.00006)\n",
    "siamese_model.compile(loss='binary_crossentropy', optimizer=optimizer, metrics = [\"accuracy\"])\n",
    "#siamese_model.compile(loss='binary_crossentropy',optimizer=keras.optimizers.SGD(lr=0.001),metrics = ['accuracy'])\n"
   ]
  },
  {
   "cell_type": "code",
   "execution_count": 19,
   "metadata": {},
   "outputs": [
    {
     "name": "stdout",
     "output_type": "stream",
     "text": [
      "Epoch 1/100\n",
      "8000/8000 [==============================] - 273s 34ms/step - loss: 1.8635 - acc: 0.8675\n",
      "Epoch 2/100\n",
      "8000/8000 [==============================] - 267s 33ms/step - loss: 0.5988 - acc: 0.9517\n",
      "Epoch 3/100\n",
      "8000/8000 [==============================] - 268s 33ms/step - loss: 0.4061 - acc: 0.9700\n",
      "Epoch 4/100\n",
      "8000/8000 [==============================] - 269s 34ms/step - loss: 0.3419 - acc: 0.9782\n",
      "Epoch 5/100\n",
      "8000/8000 [==============================] - 267s 33ms/step - loss: 0.3037 - acc: 0.9830\n",
      "Epoch 6/100\n",
      "8000/8000 [==============================] - 264s 33ms/step - loss: 0.2881 - acc: 0.9829\n",
      "Epoch 7/100\n",
      "8000/8000 [==============================] - 264s 33ms/step - loss: 0.2507 - acc: 0.9869\n",
      "Epoch 8/100\n",
      "8000/8000 [==============================] - 264s 33ms/step - loss: 0.2466 - acc: 0.9864\n",
      "Epoch 9/100\n",
      "8000/8000 [==============================] - 264s 33ms/step - loss: 0.2239 - acc: 0.9876\n",
      "Epoch 10/100\n",
      "8000/8000 [==============================] - 264s 33ms/step - loss: 0.2032 - acc: 0.9898\n",
      "Epoch 11/100\n",
      "8000/8000 [==============================] - 264s 33ms/step - loss: 0.2079 - acc: 0.9893\n",
      "Epoch 12/100\n",
      "8000/8000 [==============================] - 264s 33ms/step - loss: 0.1868 - acc: 0.9925\n",
      "Epoch 13/100\n",
      "8000/8000 [==============================] - 264s 33ms/step - loss: 0.1778 - acc: 0.9922\n",
      "Epoch 14/100\n",
      "8000/8000 [==============================] - 264s 33ms/step - loss: 0.1694 - acc: 0.9921\n",
      "Epoch 15/100\n",
      "8000/8000 [==============================] - 264s 33ms/step - loss: 0.1667 - acc: 0.9919\n",
      "Epoch 16/100\n",
      "8000/8000 [==============================] - 264s 33ms/step - loss: 0.1583 - acc: 0.9931\n",
      "Epoch 17/100\n",
      "8000/8000 [==============================] - 264s 33ms/step - loss: 0.1500 - acc: 0.9936\n",
      "Epoch 18/100\n",
      "8000/8000 [==============================] - 264s 33ms/step - loss: 0.1513 - acc: 0.9922\n",
      "Epoch 19/100\n",
      "8000/8000 [==============================] - 264s 33ms/step - loss: 0.1414 - acc: 0.9931\n",
      "Epoch 20/100\n",
      "8000/8000 [==============================] - 264s 33ms/step - loss: 0.1278 - acc: 0.9950\n",
      "Epoch 21/100\n",
      "8000/8000 [==============================] - 264s 33ms/step - loss: 0.1286 - acc: 0.9954\n",
      "Epoch 22/100\n",
      "8000/8000 [==============================] - 264s 33ms/step - loss: 0.1192 - acc: 0.9951\n",
      "Epoch 23/100\n",
      "8000/8000 [==============================] - 264s 33ms/step - loss: 0.1337 - acc: 0.9930\n",
      "Epoch 24/100\n",
      "8000/8000 [==============================] - 264s 33ms/step - loss: 0.1204 - acc: 0.9945\n",
      "Epoch 25/100\n",
      "8000/8000 [==============================] - 264s 33ms/step - loss: 0.1275 - acc: 0.9945\n",
      "Epoch 26/100\n",
      "8000/8000 [==============================] - 264s 33ms/step - loss: 0.1119 - acc: 0.9958\n",
      "Epoch 27/100\n",
      "8000/8000 [==============================] - 264s 33ms/step - loss: 0.1125 - acc: 0.9952\n",
      "Epoch 28/100\n",
      "8000/8000 [==============================] - 264s 33ms/step - loss: 0.1102 - acc: 0.9958\n",
      "Epoch 29/100\n",
      "8000/8000 [==============================] - 264s 33ms/step - loss: 0.1049 - acc: 0.9969\n",
      "Epoch 30/100\n",
      "8000/8000 [==============================] - 264s 33ms/step - loss: 0.1080 - acc: 0.9956\n",
      "Epoch 31/100\n",
      "8000/8000 [==============================] - 264s 33ms/step - loss: 0.1019 - acc: 0.9952\n",
      "Epoch 32/100\n",
      "8000/8000 [==============================] - 264s 33ms/step - loss: 0.1006 - acc: 0.9959\n",
      "Epoch 33/100\n",
      "8000/8000 [==============================] - 264s 33ms/step - loss: 0.0973 - acc: 0.9959\n",
      "Epoch 34/100\n",
      "8000/8000 [==============================] - 264s 33ms/step - loss: 0.0953 - acc: 0.9968\n",
      "Epoch 35/100\n",
      "8000/8000 [==============================] - 264s 33ms/step - loss: 0.1009 - acc: 0.9950\n",
      "Epoch 36/100\n",
      "8000/8000 [==============================] - 264s 33ms/step - loss: 0.0874 - acc: 0.9972\n",
      "Epoch 37/100\n",
      "8000/8000 [==============================] - 264s 33ms/step - loss: 0.0941 - acc: 0.9949\n",
      "Epoch 38/100\n",
      "8000/8000 [==============================] - 264s 33ms/step - loss: 0.0927 - acc: 0.9961\n",
      "Epoch 39/100\n",
      "8000/8000 [==============================] - 264s 33ms/step - loss: 0.0925 - acc: 0.9968\n",
      "Epoch 40/100\n",
      "8000/8000 [==============================] - 264s 33ms/step - loss: 0.0863 - acc: 0.9960\n",
      "Epoch 41/100\n",
      "8000/8000 [==============================] - 264s 33ms/step - loss: 0.0795 - acc: 0.9974\n",
      "Epoch 42/100\n",
      "8000/8000 [==============================] - 264s 33ms/step - loss: 0.0755 - acc: 0.9969\n",
      "Epoch 43/100\n",
      "8000/8000 [==============================] - 264s 33ms/step - loss: 0.0877 - acc: 0.9958\n",
      "Epoch 44/100\n",
      "8000/8000 [==============================] - 264s 33ms/step - loss: 0.0793 - acc: 0.9975\n",
      "Epoch 45/100\n",
      "8000/8000 [==============================] - 264s 33ms/step - loss: 0.0810 - acc: 0.9962\n",
      "Epoch 46/100\n",
      "8000/8000 [==============================] - 264s 33ms/step - loss: 0.0870 - acc: 0.9956\n",
      "Epoch 47/100\n",
      "8000/8000 [==============================] - 264s 33ms/step - loss: 0.0672 - acc: 0.9979\n",
      "Epoch 48/100\n",
      "8000/8000 [==============================] - 264s 33ms/step - loss: 0.0819 - acc: 0.9955\n",
      "Epoch 49/100\n",
      "8000/8000 [==============================] - 264s 33ms/step - loss: 0.0855 - acc: 0.9966\n",
      "Epoch 50/100\n",
      "8000/8000 [==============================] - 264s 33ms/step - loss: 0.0703 - acc: 0.9981\n",
      "Epoch 51/100\n",
      "8000/8000 [==============================] - 264s 33ms/step - loss: 0.0741 - acc: 0.9962\n",
      "Epoch 52/100\n",
      "8000/8000 [==============================] - 264s 33ms/step - loss: 0.0624 - acc: 0.9981\n",
      "Epoch 53/100\n",
      "8000/8000 [==============================] - 264s 33ms/step - loss: 0.0643 - acc: 0.9974\n",
      "Epoch 54/100\n",
      "8000/8000 [==============================] - 264s 33ms/step - loss: 0.0687 - acc: 0.9975\n",
      "Epoch 55/100\n",
      "8000/8000 [==============================] - 264s 33ms/step - loss: 0.0716 - acc: 0.9976\n",
      "Epoch 56/100\n",
      "8000/8000 [==============================] - 264s 33ms/step - loss: 0.0732 - acc: 0.9950\n",
      "Epoch 57/100\n",
      "8000/8000 [==============================] - 264s 33ms/step - loss: 0.0595 - acc: 0.9986\n",
      "Epoch 58/100\n",
      "8000/8000 [==============================] - 264s 33ms/step - loss: 0.0694 - acc: 0.9965\n",
      "Epoch 59/100\n",
      "8000/8000 [==============================] - 264s 33ms/step - loss: 0.0660 - acc: 0.9975\n",
      "Epoch 60/100\n",
      "8000/8000 [==============================] - 264s 33ms/step - loss: 0.0688 - acc: 0.9962\n",
      "Epoch 61/100\n",
      "8000/8000 [==============================] - 264s 33ms/step - loss: 0.0639 - acc: 0.9974\n",
      "Epoch 62/100\n",
      "8000/8000 [==============================] - 264s 33ms/step - loss: 0.0643 - acc: 0.9979\n",
      "Epoch 63/100\n",
      "8000/8000 [==============================] - 264s 33ms/step - loss: 0.0666 - acc: 0.9969\n",
      "Epoch 64/100\n",
      "8000/8000 [==============================] - 264s 33ms/step - loss: 0.0624 - acc: 0.9974\n",
      "Epoch 65/100\n",
      "8000/8000 [==============================] - 264s 33ms/step - loss: 0.0633 - acc: 0.9970\n",
      "Epoch 66/100\n",
      "8000/8000 [==============================] - 264s 33ms/step - loss: 0.0624 - acc: 0.9970\n",
      "Epoch 67/100\n",
      "8000/8000 [==============================] - 264s 33ms/step - loss: 0.0618 - acc: 0.9971\n",
      "Epoch 68/100\n",
      "8000/8000 [==============================] - 264s 33ms/step - loss: 0.0551 - acc: 0.9980\n",
      "Epoch 69/100\n",
      "8000/8000 [==============================] - 264s 33ms/step - loss: 0.0636 - acc: 0.9961\n",
      "Epoch 70/100\n",
      "8000/8000 [==============================] - 264s 33ms/step - loss: 0.0561 - acc: 0.9974\n",
      "Epoch 71/100\n",
      "8000/8000 [==============================] - 264s 33ms/step - loss: 0.0588 - acc: 0.9971\n",
      "Epoch 72/100\n",
      "8000/8000 [==============================] - 264s 33ms/step - loss: 0.0670 - acc: 0.9960\n",
      "Epoch 73/100\n",
      "8000/8000 [==============================] - 264s 33ms/step - loss: 0.0646 - acc: 0.9975\n",
      "Epoch 74/100\n",
      "8000/8000 [==============================] - 264s 33ms/step - loss: 0.0546 - acc: 0.9976\n",
      "Epoch 75/100\n",
      "8000/8000 [==============================] - 264s 33ms/step - loss: 0.0628 - acc: 0.9968\n",
      "Epoch 76/100\n",
      "8000/8000 [==============================] - 264s 33ms/step - loss: 0.0550 - acc: 0.9984\n",
      "Epoch 77/100\n",
      "8000/8000 [==============================] - 264s 33ms/step - loss: 0.0569 - acc: 0.9965\n",
      "Epoch 78/100\n",
      "8000/8000 [==============================] - 264s 33ms/step - loss: 0.0511 - acc: 0.9980\n",
      "Epoch 79/100\n",
      "8000/8000 [==============================] - 264s 33ms/step - loss: 0.0561 - acc: 0.9970\n",
      "Epoch 80/100\n",
      "8000/8000 [==============================] - 264s 33ms/step - loss: 0.0543 - acc: 0.9974\n",
      "Epoch 81/100\n",
      "8000/8000 [==============================] - 264s 33ms/step - loss: 0.0479 - acc: 0.9980\n",
      "Epoch 82/100\n",
      "8000/8000 [==============================] - 264s 33ms/step - loss: 0.0567 - acc: 0.9980\n",
      "Epoch 83/100\n",
      "8000/8000 [==============================] - 264s 33ms/step - loss: 0.0543 - acc: 0.9978\n",
      "Epoch 84/100\n",
      "8000/8000 [==============================] - 264s 33ms/step - loss: 0.0490 - acc: 0.9985\n",
      "Epoch 85/100\n",
      "8000/8000 [==============================] - 264s 33ms/step - loss: 0.0508 - acc: 0.9976\n",
      "Epoch 86/100\n",
      "8000/8000 [==============================] - 264s 33ms/step - loss: 0.0434 - acc: 0.9988\n",
      "Epoch 87/100\n",
      "8000/8000 [==============================] - 264s 33ms/step - loss: 0.0564 - acc: 0.9970\n",
      "Epoch 88/100\n",
      "8000/8000 [==============================] - 264s 33ms/step - loss: 0.0441 - acc: 0.9989\n",
      "Epoch 89/100\n",
      "8000/8000 [==============================] - 264s 33ms/step - loss: 0.0564 - acc: 0.9970\n",
      "Epoch 90/100\n",
      "8000/8000 [==============================] - 264s 33ms/step - loss: 0.0486 - acc: 0.9979\n",
      "Epoch 91/100\n",
      "8000/8000 [==============================] - 264s 33ms/step - loss: 0.0485 - acc: 0.9980\n",
      "Epoch 92/100\n",
      "8000/8000 [==============================] - 264s 33ms/step - loss: 0.0511 - acc: 0.9971\n",
      "Epoch 93/100\n",
      "8000/8000 [==============================] - 264s 33ms/step - loss: 0.0474 - acc: 0.9980\n",
      "Epoch 94/100\n",
      "8000/8000 [==============================] - 264s 33ms/step - loss: 0.0451 - acc: 0.9983\n",
      "Epoch 95/100\n",
      "8000/8000 [==============================] - 264s 33ms/step - loss: 0.0492 - acc: 0.9969\n",
      "Epoch 96/100\n",
      "8000/8000 [==============================] - 266s 33ms/step - loss: 0.0495 - acc: 0.9985\n",
      "Epoch 97/100\n",
      "8000/8000 [==============================] - 266s 33ms/step - loss: 0.0510 - acc: 0.9970\n",
      "Epoch 98/100\n",
      "8000/8000 [==============================] - 267s 33ms/step - loss: 0.0420 - acc: 0.9985\n",
      "Epoch 99/100\n",
      "8000/8000 [==============================] - 265s 33ms/step - loss: 0.0423 - acc: 0.9989\n",
      "Epoch 100/100\n",
      "8000/8000 [==============================] - 264s 33ms/step - loss: 0.0437 - acc: 0.9980\n"
     ]
    },
    {
     "data": {
      "text/plain": [
       "<keras.callbacks.History at 0x7f9f3197c710>"
      ]
     },
     "execution_count": 19,
     "metadata": {},
     "output_type": "execute_result"
    }
   ],
   "source": [
    "siamese_model.fit([out1,out2],y,epochs=100, batch_size = 4)"
   ]
  },
  {
   "cell_type": "code",
   "execution_count": 7,
   "metadata": {},
   "outputs": [],
   "source": [
    "model_save_path = '/tensorflow/siamese_model_images_seg.h5'\n",
    "\n",
    "#siamese_model.save(model_save_path)"
   ]
  },
  {
   "cell_type": "code",
   "execution_count": 8,
   "metadata": {},
   "outputs": [],
   "source": [
    "siamese_model = load_model(model_save_path)"
   ]
  },
  {
   "cell_type": "code",
   "execution_count": 9,
   "metadata": {},
   "outputs": [],
   "source": [
    "folder_name_list = np.sort(os.listdir(path_input_images))\n",
    "out1_test= np.zeros((600,128,128,3),'float')\n",
    "out2_test= np.zeros((600,128,128,3),'float')\n",
    "\n",
    "pos_comb1 = np.array(list(combinations([1, 2, 3, 4, 5], 2)))\n",
    "pos_comb2 = np.array(list(combinations([6, 7, 8, 9, 10], 2)))\n",
    "\n",
    "neg_comb1 = np.array(list(product([2,3,4,5], [8,9,10])))\n",
    "\n",
    "count = 0\n",
    "y_test = []\n",
    "for folder_name in folder_name_list[200:220]:\n",
    "    \n",
    "    for i in range (len(pos_comb1)):\n",
    "        \n",
    "        img1_0 = cv2.imread(path_input_images + folder_name + '/'+ str(pos_comb1[i][0]).zfill(2)+'.bmp')\n",
    "        img1_0 = cv2.resize(img1_0,(128,128))\n",
    "        img1_0 = segment_image(unetmodel,img1_0)\n",
    "        \n",
    "        \n",
    "        img1_1 = cv2.imread(path_input_images + folder_name + '/'+ str(pos_comb1[i][1]).zfill(2)+'.bmp')\n",
    "        img1_1 = cv2.resize(img1_1,(128,128))\n",
    "        img1_1 = segment_image(unetmodel,img1_1)\n",
    "        out1_test[count]  = img1_0\n",
    "        out2_test[count]  = img1_1\n",
    "        count = count+1\n",
    "        y_test.append(0.0)\n",
    "        \n",
    "        img2_0 = cv2.imread(path_input_images + folder_name + '/'+ str(pos_comb2[i][0]).zfill(2)+'.bmp')\n",
    "        img2_1 = cv2.imread(path_input_images + folder_name + '/'+ str(pos_comb2[i][1]).zfill(2)+'.bmp')\n",
    "        img2_0 = cv2.resize(img2_0,(128,128))\n",
    "        img2_1 = cv2.resize(img2_1,(128,128))\n",
    "        img2_0 = segment_image(unetmodel,img2_0)\n",
    "        img2_1 = segment_image(unetmodel,img2_1)\n",
    "        \n",
    "        out1_test[count]  = img2_0\n",
    "        out2_test[count]  = img2_1\n",
    "        y_test.append(0.0)\n",
    "        count = count+1\n",
    "        \n",
    "        #img3_0 = cv2.imread(path_input_images + folder_name + '/'+ str(neg_comb1[i][0]).zfill(2)+'.bmp')\n",
    "        #img3_1 = cv2.imread(path_input_images + folder_name + '/'+ str(neg_comb1[i][1]).zfill(2)+'.bmp') \n",
    "        \n",
    "        #img3_0 = cv2.resize(img3_0,(128,128))\n",
    "        #img3_1 = cv2.resize(img3_1,(128,128))\n",
    "        #img3_0 = segment_image(unetmodel,img3_0)\n",
    "        #img3_1 = segment_image(unetmodel,img3_1)        \n",
    "        #out1_test[count]  = img3_0\n",
    "        #out2_test[count]  = img3_1\n",
    "        #y_test.append(1.0)\n",
    "        #count = count+1\n",
    "        \n",
    "        folder_name1 = str(int(folder_name) + 3).zfill(3) \n",
    "        \n",
    "        img4_0 = cv2.imread(path_input_images + folder_name + '/'+ str(pos_comb1[i][0]).zfill(2)+'.bmp')\n",
    "        img4_1 = cv2.imread(path_input_images + folder_name1 + '/'+ str(pos_comb1[i][1]).zfill(2)+'.bmp') \n",
    "        img4_0 = cv2.resize(img4_0,(128,128))\n",
    "        img4_1 = cv2.resize(img4_1,(128,128))\n",
    "        img4_0 = segment_image(unetmodel,img4_0)\n",
    "        img4_1 = segment_image(unetmodel,img4_1)           \n",
    "        out1_test[count]  = img4_0\n",
    "        out2_test[count]  = img4_1\n",
    "        y_test.append(1.0)\n",
    "        count = count+1\n",
    "        #print(count) "
   ]
  },
  {
   "cell_type": "code",
   "execution_count": 11,
   "metadata": {},
   "outputs": [],
   "source": [
    "out1_test = out1_test/255.\n",
    "out2_test = out2_test/255."
   ]
  },
  {
   "cell_type": "code",
   "execution_count": 20,
   "metadata": {},
   "outputs": [
    {
     "name": "stdout",
     "output_type": "stream",
     "text": [
      "[0.042045618310570715, 0.998375]\n"
     ]
    }
   ],
   "source": [
    "scores = siamese_model.evaluate([out1,out2], y, verbose=0)\n",
    "print(scores)"
   ]
  },
  {
   "cell_type": "code",
   "execution_count": 12,
   "metadata": {},
   "outputs": [
    {
     "name": "stdout",
     "output_type": "stream",
     "text": [
      "[0.4013477591176828, 0.9133333333333333]\n"
     ]
    }
   ],
   "source": [
    "scores_test = siamese_model.evaluate([out1_test,out2_test], y_test, verbose=0)\n",
    "print(scores_test)"
   ]
  },
  {
   "cell_type": "code",
   "execution_count": 13,
   "metadata": {},
   "outputs": [
    {
     "name": "stdout",
     "output_type": "stream",
     "text": [
      "(600, 128, 128, 3)\n"
     ]
    }
   ],
   "source": [
    "print(out1_test.shape)"
   ]
  },
  {
   "cell_type": "code",
   "execution_count": null,
   "metadata": {},
   "outputs": [],
   "source": []
  }
 ],
 "metadata": {
  "kernelspec": {
   "display_name": "Python 3",
   "language": "python",
   "name": "python3"
  },
  "language_info": {
   "codemirror_mode": {
    "name": "ipython",
    "version": 3
   },
   "file_extension": ".py",
   "mimetype": "text/x-python",
   "name": "python",
   "nbconvert_exporter": "python",
   "pygments_lexer": "ipython3",
   "version": "3.5.3"
  }
 },
 "nbformat": 4,
 "nbformat_minor": 2
}
