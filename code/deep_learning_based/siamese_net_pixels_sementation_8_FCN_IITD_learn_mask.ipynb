{
 "cells": [
  {
   "cell_type": "code",
   "execution_count": 1,
   "metadata": {},
   "outputs": [],
   "source": [
    "import cv2 \n",
    "import numpy as np\n",
    "import glob\n",
    "import os\n",
    "from itertools import combinations \n",
    "from itertools import product\n",
    "import random\n",
    "import matplotlib.pyplot as plt\n",
    "from random import randrange\n",
    "import sys\n",
    "import math\n",
    "#apt install python-pydot python-pydot-ng graphviz"
   ]
  },
  {
   "cell_type": "raw",
   "metadata": {},
   "source": []
  },
  {
   "cell_type": "code",
   "execution_count": null,
   "metadata": {},
   "outputs": [],
   "source": []
  },
  {
   "cell_type": "code",
   "execution_count": 2,
   "metadata": {},
   "outputs": [],
   "source": [
    "# import cv2 \n",
    "# import numpy as np\n",
    "# import glob\n",
    "# import os\n",
    "# from itertools import combinations \n",
    "# from itertools import product\n",
    "# import random\n",
    "# import matplotlib.pyplot as plt\n",
    "# from random import randrange\n",
    "# import sys\n",
    "#apt install python-pydot python-pydot-ng graphviz"
   ]
  },
  {
   "cell_type": "code",
   "execution_count": 3,
   "metadata": {},
   "outputs": [
    {
     "name": "stdout",
     "output_type": "stream",
     "text": [
      "Requirement already satisfied: pydot in /usr/local/lib/python3.8/dist-packages (1.4.2)\n",
      "Requirement already satisfied: pyparsing>=2.1.4 in /usr/local/lib/python3.8/dist-packages (from pydot) (3.0.7)\n",
      "\u001b[33mWARNING: Running pip as the 'root' user can result in broken permissions and conflicting behaviour with the system package manager. It is recommended to use a virtual environment instead: https://pip.pypa.io/warnings/venv\u001b[0m\n",
      "Requirement already satisfied: pydotplus in /usr/local/lib/python3.8/dist-packages (2.0.2)\n",
      "Requirement already satisfied: pyparsing>=2.0.1 in /usr/local/lib/python3.8/dist-packages (from pydotplus) (3.0.7)\n",
      "\u001b[33mWARNING: Running pip as the 'root' user can result in broken permissions and conflicting behaviour with the system package manager. It is recommended to use a virtual environment instead: https://pip.pypa.io/warnings/venv\u001b[0m\n",
      "Requirement already satisfied: graphviz in /usr/local/lib/python3.8/dist-packages (0.19.1)\n",
      "\u001b[33mWARNING: Running pip as the 'root' user can result in broken permissions and conflicting behaviour with the system package manager. It is recommended to use a virtual environment instead: https://pip.pypa.io/warnings/venv\u001b[0m\n"
     ]
    }
   ],
   "source": [
    "!{sys.executable} -m pip install pydot\n",
    "!{sys.executable} -m pip install pydotplus\n",
    "!{sys.executable} -m pip install graphviz"
   ]
  },
  {
   "cell_type": "code",
   "execution_count": 4,
   "metadata": {},
   "outputs": [
    {
     "name": "stdout",
     "output_type": "stream",
     "text": [
      "Requirement already satisfied: tensorflow-addons in /usr/local/lib/python3.8/dist-packages (0.15.0)\n",
      "Requirement already satisfied: typeguard>=2.7 in /usr/local/lib/python3.8/dist-packages (from tensorflow-addons) (2.13.3)\n",
      "\u001b[33mWARNING: Running pip as the 'root' user can result in broken permissions and conflicting behaviour with the system package manager. It is recommended to use a virtual environment instead: https://pip.pypa.io/warnings/venv\u001b[0m\n"
     ]
    },
    {
     "name": "stderr",
     "output_type": "stream",
     "text": [
      "/usr/local/lib/python3.8/dist-packages/tensorflow_addons/utils/ensure_tf_install.py:37: UserWarning: You are currently using a nightly version of TensorFlow (2.9.0-dev20220126). \n",
      "TensorFlow Addons offers no support for the nightly versions of TensorFlow. Some things might work, some other might not. \n",
      "If you encounter a bug, do not file an issue on GitHub.\n",
      "  warnings.warn(\n"
     ]
    }
   ],
   "source": [
    "import tensorflow as tf \n",
    "from tensorflow.keras.layers import Dense, MaxPooling2D, Convolution2D, Dropout, Input, Flatten,Conv2D,Conv2DTranspose,Lambda,concatenate,GlobalMaxPooling2D,Activation\n",
    "from tensorflow.keras.layers import BatchNormalization\n",
    "from tensorflow.keras import backend as K\n",
    "from tensorflow.keras.models import Model,Sequential\n",
    "#from keras.initializers.h as \n",
    "from tensorflow.python.keras.utils.vis_utils import plot_model\n",
    "\n",
    "#below is specific for tf2\n",
    "from tensorflow.keras.layers.experimental.preprocessing import RandomRotation\n",
    "\n",
    "#for tf1 random rotation\n",
    "#tf.keras.preprocessing.image.random_rotation\n",
    "#from tensorflow.keras.preprocessing.image import random_rotation\n",
    "\n",
    "\n",
    "#from tensorflow.python.keras.utils.vis_utils import plot_model\n",
    "from tensorflow.keras.models import load_model\n",
    "from tensorflow.keras.regularizers import l2 \n",
    "from pandas import read_excel\n",
    "import pydot\n",
    "\n",
    "\n",
    "!{sys.executable} -m pip install tensorflow-addons\n",
    "\n",
    "### below is specific for tf2\n",
    "import tensorflow_addons as tfa"
   ]
  },
  {
   "cell_type": "code",
   "execution_count": 5,
   "metadata": {},
   "outputs": [
    {
     "name": "stdout",
     "output_type": "stream",
     "text": [
      "2.9.0-dev20220126\n"
     ]
    }
   ],
   "source": [
    "print(tf.__version__)"
   ]
  },
  {
   "cell_type": "code",
   "execution_count": 6,
   "metadata": {},
   "outputs": [],
   "source": [
    "path_input_images =  '/tensorflow/IITD_Database/'"
   ]
  },
  {
   "cell_type": "code",
   "execution_count": 7,
   "metadata": {},
   "outputs": [],
   "source": [
    "mask_path  = '/tensorflow/iit_unet/mask_data/'"
   ]
  },
  {
   "cell_type": "code",
   "execution_count": 8,
   "metadata": {},
   "outputs": [],
   "source": [
    "# data = read_excel(data_in_labels_path, sheetname='Sheet1')"
   ]
  },
  {
   "cell_type": "code",
   "execution_count": 9,
   "metadata": {},
   "outputs": [],
   "source": [
    "# data.head()"
   ]
  },
  {
   "cell_type": "code",
   "execution_count": 10,
   "metadata": {},
   "outputs": [],
   "source": [
    "def change_name(name):\n",
    "    d = name.split('/')\n",
    "    mask_name = 'frame' + '_' + d[0]+'_'+d[1] +'.png'\n",
    "    return mask_name\n"
   ]
  },
  {
   "cell_type": "code",
   "execution_count": 11,
   "metadata": {},
   "outputs": [],
   "source": [
    "#rows = data[data['image_name']=='001_04.bmp']"
   ]
  },
  {
   "cell_type": "code",
   "execution_count": 12,
   "metadata": {},
   "outputs": [],
   "source": [
    "#rows['Y1p'].iloc[0]"
   ]
  },
  {
   "cell_type": "code",
   "execution_count": 13,
   "metadata": {},
   "outputs": [],
   "source": [
    "def read_simaese_parametric_data(path_input_images, folder_name_list_batch,mask_path,batch_size):\n",
    "    \n",
    "    \n",
    "    h  = 128\n",
    "    w = 128 \n",
    "    c = 1\n",
    "    factor  = 4\n",
    "    \n",
    "    train_out1 = np.zeros((factor*batch_size,h,w,c),'float')\n",
    "    train_out2 = np.zeros((factor*batch_size,h,w,c),'float')\n",
    "#     train_seg1 = np.zeros((factor*batch_size,h,w,1),'float')\n",
    "#     train_seg2 = np.zeros((factor*batch_size,h,w,1),'float')\n",
    "    \n",
    "    out1= np.zeros((factor*batch_size,h,w,c),'float')\n",
    "    out2= np.zeros((factor*batch_size,h,w,c),'float')\n",
    "    \n",
    "#     seg1= np.zeros((factor*batch_size,h,w,1),'float')\n",
    "#     seg2= np.zeros((factor*batch_size,h,w,1),'float')\n",
    "    \n",
    "    pos_comb1 = np.array(list(combinations([1, 2, 3, 4, 5], 2)))\n",
    "    pos_comb2 = np.array(list(combinations([6, 7, 8, 9, 10], 2)))\n",
    "\n",
    "    neg_comb1 = np.array(list(product([2,3,4,5], [8,9,10])))\n",
    "    #\n",
    "    count = 0\n",
    "    y = []\n",
    "    \n",
    "    for folder_name in folder_name_list_batch:\n",
    "\n",
    "        for j in range (len(pos_comb1)-9):\n",
    "           \n",
    "            i = random.randint(0, 9)\n",
    "        \n",
    "            ## read the image from folder in postive combination \n",
    "            #print('pos_combi =' + folder_name + '/'+ str(pos_comb1[i][0]).zfill(2)+'.bmp')\n",
    "            img1_0 = cv2.imread(path_input_images + folder_name + '/'+ str(pos_comb1[i][0]).zfill(2)+'.bmp')\n",
    "            \n",
    "            \n",
    "            img1_1 = cv2.imread(path_input_images + folder_name + '/'+ str(pos_comb1[i][1]).zfill(2)+'.bmp')\n",
    "#             print('pos_combi =' + folder_name + '/'+ str(pos_comb1[i][1]).zfill(2)+'.bmp')\n",
    "\n",
    "            img1_0 = cv2.resize(img1_0[:,:,0],(h,w))    #c = 1\n",
    "            img1_1 = cv2.resize(img1_1[:,:,0],(h,w))\n",
    "            ##get the correspondance segmentation data \n",
    "#             name1 = folder_name + '/'+ str(pos_comb1[i][0]).zfill(2)\n",
    "#             name2 = folder_name + '/'+ str(pos_comb1[i][1]).zfill(2)\n",
    "#             seg1_0 = cv2.imread(mask_path + change_name(name1))\n",
    "#             seg1_1 = cv2.imread(mask_path + change_name(name2))\n",
    "#             ###############################################################\n",
    "#             seg1_0 = cv2.cvtColor(seg1_0,cv2.COLOR_BGR2GRAY)\n",
    "#             seg1_1 = cv2.cvtColor(seg1_1,cv2.COLOR_BGR2GRAY)\n",
    "            \n",
    "#             seg1_0 = cv2.resize(seg1_0,(h,w))\n",
    "#             seg1_1 = cv2.resize(seg1_1,(h,w))\n",
    "            \n",
    "            ## save the image data to out and out2         \n",
    "            out1[count]  = np.expand_dims(img1_0,axis=2) #img1_0\n",
    "            out2[count]  = np.expand_dims(img1_1,axis=2) #img1_1\n",
    "#             seg1[count]  = np.expand_dims(seg1_0,axis=2)\n",
    "#             seg2[count]  = np.expand_dims(seg1_1,axis=2)\n",
    "            \n",
    "            #save the segmentation data to lable \n",
    "\n",
    "            \n",
    "            ## posive combination assigning 0 to last clolumn\n",
    "            y.append(1.0)\n",
    "            \n",
    "            ## increament the count\n",
    "            count = count+1\n",
    "            \n",
    "            \n",
    "\n",
    "            img2_0 = cv2.imread(path_input_images + folder_name + '/'+ str(pos_comb2[i][0]).zfill(2)+'.bmp')\n",
    "            img2_1 = cv2.imread(path_input_images + folder_name + '/'+ str(pos_comb2[i][1]).zfill(2)+'.bmp')\n",
    "            img2_0 = cv2.resize(img2_0[:,:,0],(h,w)) ## C = 1\n",
    "            img2_1 = cv2.resize(img2_1[:,:,0],(h,w))  ## c = 1\n",
    "            \n",
    "            name1 = folder_name + '/'+ str(pos_comb2[i][0]).zfill(2)\n",
    "            name2 = folder_name + '/'+ str(pos_comb2[i][1]).zfill(2)\n",
    "#             seg2_0 = cv2.imread(mask_path + change_name(name1))\n",
    "#             seg2_1 = cv2.imread(mask_path + change_name(name2)) \n",
    "            \n",
    "#             seg2_0 = cv2.cvtColor(seg2_0,cv2.COLOR_BGR2GRAY)\n",
    "#             seg2_1 = cv2.cvtColor(seg2_1,cv2.COLOR_BGR2GRAY)\n",
    "#             seg2_0 = cv2.resize(seg2_0,(h,w))\n",
    "#             seg2_1 = cv2.resize(seg2_1,(h,w))\n",
    "            out1[count]  = np.expand_dims(img2_0,axis=2)#img2_0\n",
    "            out2[count]  = np.expand_dims(img2_1,axis=2)#img2_1\n",
    "#             seg1[count]  = np.expand_dims(seg2_0,axis=2)\n",
    "#             seg2[count]  = np.expand_dims(seg2_1,axis=2)          \n",
    "\n",
    "            y.append(1.0)\n",
    "            count = count+1\n",
    "\n",
    "            \n",
    "            ## negative combination left vs right iris for same person \n",
    "            folder_name2 = str(int(folder_name) + 1).zfill(3)\n",
    "#             print('neg_combi =' + folder_name2 + '/'+ str(neg_comb1[i][1]).zfill(2)+'.bmp')\n",
    "#             print('neg_combi =' + folder_name + '/'+ str(neg_comb1[i][0]).zfill(2)+'.bmp')\n",
    "            img3_0 = cv2.imread(path_input_images + folder_name + '/'+ str(neg_comb1[i][0]).zfill(2)+'.bmp')\n",
    "            img3_1 = cv2.imread(path_input_images + folder_name2 + '/'+ str(neg_comb1[i][1]).zfill(2)+'.bmp')\n",
    "            img3_0 = cv2.resize(img3_0[:,:,0],(h,w))  #c = 1\n",
    "            img3_1 = cv2.resize(img3_1[:,:,0],(h,w))\n",
    "            \n",
    "            name1 = folder_name + '/'+ str(neg_comb1[i][0]).zfill(2)\n",
    "            name2 = folder_name + '/'+ str(neg_comb1[i][1]).zfill(2)\n",
    "#             seg3_0 = cv2.imread(mask_path + change_name(name1))\n",
    "#             seg3_1 = cv2.imread(mask_path + change_name(name2))\n",
    "            \n",
    "#             seg3_0 = cv2.cvtColor(seg3_0,cv2.COLOR_BGR2GRAY)\n",
    "#             seg3_1 = cv2.cvtColor(seg3_1,cv2.COLOR_BGR2GRAY)\n",
    "            \n",
    "#             seg3_0 = cv2.resize(seg3_0,(h,w))\n",
    "#             seg3_1 = cv2.resize(seg3_1,(h,w))\n",
    "            \n",
    "            out1[count]  = np.expand_dims(img3_0,axis=2) #img3_0\n",
    "            out2[count]  = np.expand_dims(img3_1,axis=2) #img3_1\n",
    "#             seg1[count]  = np.expand_dims(seg3_0,axis=2)\n",
    "#             seg2[count]  = np.expand_dims(seg3_1,axis=2)\n",
    "            ## assigning 1 to negative combinations (left vs right image)\n",
    "            y.append(0.0)\n",
    "            count = count+1\n",
    "\n",
    "            \n",
    "            ## creating the negativ combination from diffrent person \n",
    "            folder_name1 = str(int(folder_name) + 3).zfill(3) \n",
    "            img4_0 = cv2.imread(path_input_images + folder_name + '/'+ str(pos_comb1[i][0]).zfill(2)+'.bmp')\n",
    "            img4_1 = cv2.imread(path_input_images + folder_name1 + '/'+ str(pos_comb1[i][1]).zfill(2)+'.bmp')\n",
    "\n",
    "            img4_0 = cv2.resize(img4_0[:,:,0],(h,w))\n",
    "            img4_1 = cv2.resize(img4_1[:,:,0],(h,w))\n",
    "            name1 = folder_name + '/'+ str(pos_comb1[i][0]).zfill(2)\n",
    "            name2 = folder_name1 + '/'+ str(pos_comb1[i][1]).zfill(2)\n",
    "#             seg4_0 = cv2.imread(mask_path + change_name(name1))\n",
    "#             seg4_1 = cv2.imread(mask_path + change_name(name2))\n",
    "\n",
    "#             seg4_0 = cv2.cvtColor(seg4_0,cv2.COLOR_BGR2GRAY)\n",
    "#             seg4_1 = cv2.cvtColor(seg4_1,cv2.COLOR_BGR2GRAY)        \n",
    "\n",
    "#             seg4_0 = cv2.resize(seg4_0,(h,w))\n",
    "#             seg4_1 = cv2.resize(seg4_1,(h,w))\n",
    "            \n",
    "            out1[count]  = np.expand_dims(img4_0,axis=2)#img4_0\n",
    "            out2[count]  = np.expand_dims(img4_1,axis=2) #img4_1\n",
    "#             seg1[count]  = np.expand_dims(seg4_0,axis=2)\n",
    "#             seg2[count]  = np.expand_dims(seg4_1,axis=2)\n",
    "            y.append(0.0)\n",
    "            count = count+1\n",
    "            #print(i)\n",
    "            \n",
    "    ## this padding the data set for size 256x512 to maintain spect rationa nd segmentation parameters \n",
    "    train_out1 = out1\n",
    "    train_out2 = out2 \n",
    "    \n",
    "#     train_seg1 = seg1\n",
    "#     train_seg2 = seg2  \n",
    "    \n",
    "    \n",
    "#     train_out1[:,0:240,0:320,:] = out1\n",
    "#     train_out2[:,0:240,0:320,:] = out2 \n",
    "    \n",
    "#     train_seg1[:,0:240,0:320,:] = seg1\n",
    "#     train_seg2[:,0:240,0:320,:] = seg2     \n",
    "    \n",
    "    return train_out1,train_out2,y\n",
    "        #print(count) "
   ]
  },
  {
   "cell_type": "code",
   "execution_count": 14,
   "metadata": {},
   "outputs": [
    {
     "name": "stdout",
     "output_type": "stream",
     "text": [
      "[[1 2]\n",
      " [1 3]\n",
      " [1 4]\n",
      " [1 5]\n",
      " [2 3]\n",
      " [2 4]\n",
      " [2 5]\n",
      " [3 4]\n",
      " [3 5]\n",
      " [4 5]]\n"
     ]
    }
   ],
   "source": [
    "#print(np.array(list(product([2,3,4,5], [8,9,10]))))\n",
    "print(np.array(list(combinations([1, 2, 3, 4, 5], 2))))\n"
   ]
  },
  {
   "cell_type": "code",
   "execution_count": 15,
   "metadata": {},
   "outputs": [],
   "source": [
    "#fileList = listOfFiles     \n",
    "def imageLoader(path_input_images,folder_name_list,mask_path,batch_size):\n",
    "\n",
    "    L = len(folder_name_list)\n",
    "\n",
    "    #this line is just to make the generator infinite, keras needs that    \n",
    "    while True:\n",
    "\n",
    "        batch_start = randrange(L-batch_size)\n",
    "        batch_end = batch_start + batch_size\n",
    "\n",
    "        if (batch_end < L):\n",
    "            limit = min(batch_end, L)\n",
    "            train_out1,train_out2,y_class = read_simaese_parametric_data(path_input_images,folder_name_list[batch_start:limit],mask_path,batch_size)\n",
    "            train_out1 = train_out1/255.\n",
    "            train_out2 = train_out2/255.\n",
    "#             train_seg1 = train_seg1/255.\n",
    "#             train_seg2 = train_seg2/255.\n",
    "            batch_start = batch_end\n",
    "            batch_end = batch_start + batch_size\n",
    "            #print(batch_start,batch_end)\n",
    "            ## just for the test \n",
    "            #yield (train_out2,train_seg2)\n",
    "            ## original\n",
    "            yield ([train_out1,train_out2],np.array(y_class)) #a tuple with two numpy arrays with batch_size samples     "
   ]
  },
  {
   "cell_type": "code",
   "execution_count": null,
   "metadata": {},
   "outputs": [],
   "source": [
    "\n"
   ]
  },
  {
   "cell_type": "code",
   "execution_count": 16,
   "metadata": {},
   "outputs": [
    {
     "name": "stdout",
     "output_type": "stream",
     "text": [
      "100\n"
     ]
    }
   ],
   "source": [
    "folder_names = np.sort(os.listdir(path_input_images))\n",
    "folder_name_list = folder_names[0:120] \n",
    "folder_name_list_test = folder_names[120:220]\n",
    "print(len(folder_name_list_test))"
   ]
  },
  {
   "cell_type": "markdown",
   "metadata": {},
   "source": [
    "### Function to check the GT and loader "
   ]
  },
  {
   "cell_type": "code",
   "execution_count": 17,
   "metadata": {},
   "outputs": [],
   "source": [
    "def draw_haugh_circle(img_L,img_R, hough_param):        \n",
    "    \n",
    "    \n",
    "    print('pair_classification =', int(hough_param[12]))\n",
    "    cimg = img_L.copy()\n",
    "    cv2.circle(cimg,(int(hough_param[0]),int(hough_param[1])),int(hough_param[2]),(0,255,0),2)\n",
    "                # draw the center of the circle\n",
    "    cv2.circle(cimg,(int(hough_param[0]),int(hough_param[1])),2,(0,255,0),3)\n",
    "\n",
    "                #for i in circles_inner[0,:]:\n",
    "                # draw the outer circle\n",
    "    cv2.circle(cimg,(int(hough_param[3]),int(hough_param[4])),int(hough_param[5]),(0,0,255),2)\n",
    "                # draw the center of the circle\n",
    "    cv2.circle(cimg,(int(hough_param[3]),int(hough_param[4])),2,(0,0,255),3)\n",
    "    plt.title('left_image')\n",
    "    plt.imshow(cimg)\n",
    "    plt.show()\n",
    "    \n",
    "    \n",
    "    cimg = img_R.copy()\n",
    "    cv2.circle(cimg,(int(hough_param[6]),int(hough_param[7])),int(hough_param[8]),(0,255,0),2)\n",
    "                # draw the center of the circle\n",
    "    cv2.circle(cimg,(int(hough_param[6]),int(hough_param[7])),2,(0,255,0),3)\n",
    "\n",
    "                #for i in circles_inner[0,:]:\n",
    "                # draw the outer circle\n",
    "    cv2.circle(cimg,(int(hough_param[9]),int(hough_param[10])),int(hough_param[11]),(0,0,255),2)\n",
    "                # draw the center of the circle\n",
    "    cv2.circle(cimg,(int(hough_param[9]),int(hough_param[10])),2,(0,0,255),3)\n",
    "    plt.title('right_image')\n",
    "    plt.imshow(cimg)\n",
    "    plt.show()"
   ]
  },
  {
   "cell_type": "code",
   "execution_count": 18,
   "metadata": {},
   "outputs": [],
   "source": [
    "g=0\n",
    "while (g < 5):\n",
    "\n",
    "    Out = next(imageLoader(path_input_images,folder_name_list,mask_path,4))\n",
    "    g = g+1\n"
   ]
  },
  {
   "cell_type": "code",
   "execution_count": 19,
   "metadata": {},
   "outputs": [
    {
     "name": "stdout",
     "output_type": "stream",
     "text": [
      "1.0\n"
     ]
    }
   ],
   "source": [
    "images_L_R = Out[0]\n",
    "image_L = images_L_R[0]\n",
    "image_R = images_L_R[1]\n",
    "\n",
    "# mask_L_R_class = Out[1]\n",
    "\n",
    "# mask_L = mask_L_R_class[0]\n",
    "# mask_R = mask_L_R_class[1]\n",
    "y = Out[1]\n",
    "print(y[0])\n",
    "#print(image_L.shape)"
   ]
  },
  {
   "cell_type": "markdown",
   "metadata": {},
   "source": [
    "# mask_L.shape"
   ]
  },
  {
   "cell_type": "code",
   "execution_count": 20,
   "metadata": {},
   "outputs": [
    {
     "data": {
      "image/png": "[encoded data removed]",
      "text/plain": [
       "<Figure size 432x288 with 1 Axes>"
      ]
     },
     "metadata": {
      "needs_background": "light"
     },
     "output_type": "display_data"
    }
   ],
   "source": [
    "plt.title('left_image')\n",
    "plt.imshow(np.squeeze(image_R[1]),cmap='gray')\n",
    "plt.show()"
   ]
  },
  {
   "cell_type": "code",
   "execution_count": 21,
   "metadata": {},
   "outputs": [
    {
     "data": {
      "image/png": "[encoded data removed]",
      "text/plain": [
       "<Figure size 432x288 with 1 Axes>"
      ]
     },
     "metadata": {
      "needs_background": "light"
     },
     "output_type": "display_data"
    }
   ],
   "source": [
    "plt.title('left_mask')\n",
    "plt.imshow(np.squeeze(image_L[1]),cmap='gray')\n",
    "plt.show()"
   ]
  },
  {
   "cell_type": "code",
   "execution_count": null,
   "metadata": {},
   "outputs": [],
   "source": []
  },
  {
   "cell_type": "code",
   "execution_count": null,
   "metadata": {},
   "outputs": [],
   "source": []
  },
  {
   "cell_type": "code",
   "execution_count": null,
   "metadata": {},
   "outputs": [],
   "source": []
  },
  {
   "cell_type": "code",
   "execution_count": null,
   "metadata": {},
   "outputs": [],
   "source": []
  },
  {
   "cell_type": "code",
   "execution_count": null,
   "metadata": {},
   "outputs": [],
   "source": []
  },
  {
   "cell_type": "code",
   "execution_count": 22,
   "metadata": {},
   "outputs": [],
   "source": [
    "#pos_comb1 = np.array(list(combinations([1, 2, 3, 4, 5], 2)))\n",
    "#pos_comb2 = np.array(list(combinations([6, 7, 8, 9, 10], 2)))\n",
    "\n",
    "#neg_comb1 = np.array(list(product([2,3,4,5], [8,9,10])))\n",
    "#print(neg_comb1)"
   ]
  },
  {
   "cell_type": "code",
   "execution_count": 23,
   "metadata": {},
   "outputs": [
    {
     "name": "stdout",
     "output_type": "stream",
     "text": [
      "['001' '002' '003' '004' '005' '006' '007' '008' '009' '010' '011' '012'\n",
      " '013' '014' '015' '016' '017' '018' '019' '020']\n"
     ]
    }
   ],
   "source": [
    "folder_names = np.sort(os.listdir(path_input_images))\n",
    "\n",
    "print(folder_names[0:20])"
   ]
  },
  {
   "cell_type": "code",
   "execution_count": 24,
   "metadata": {},
   "outputs": [],
   "source": [
    "# def conv2d_block(input_tensor, n_filters, kernel_size = 3, batchnorm = True):\n",
    "#     \"\"\"Function to add 2 convolutional layers with the parameters passed to it\"\"\"\n",
    "#     # first layer\n",
    "#     x = Conv2D(filters = n_filters, kernel_size = (kernel_size, kernel_size),\\\n",
    "#               kernel_initializer = 'he_normal', padding = 'same')(input_tensor)\n",
    "#     if batchnorm:\n",
    "#         x = BatchNormalization()(x)\n",
    "#     x = Activation('relu')(x)\n",
    "    \n",
    "#     # second layer\n",
    "#     x = Conv2D(filters = n_filters, kernel_size = (kernel_size, kernel_size),\\\n",
    "#               kernel_initializer = 'he_normal', padding = 'same')(x)\n",
    "#     if batchnorm:\n",
    "#         x = BatchNormalization()(x)\n",
    "#     x = Activation('relu')(x)\n",
    "    \n",
    "#     return x"
   ]
  },
  {
   "cell_type": "code",
   "execution_count": 25,
   "metadata": {},
   "outputs": [],
   "source": [
    "initialize_weights = 'he_normal'\n",
    "initialize_bias = 'he_normal'"
   ]
  },
  {
   "cell_type": "code",
   "execution_count": null,
   "metadata": {},
   "outputs": [],
   "source": []
  },
  {
   "cell_type": "code",
   "execution_count": 26,
   "metadata": {},
   "outputs": [],
   "source": [
    "def base_network_unet():\n",
    "    input = Input(shape=(128,128,1), name=\"base_input\")\n",
    "    n_filters=16\n",
    "    dropout=.1\n",
    "    batchnorm=True\n",
    "       \n",
    "    c1 = Conv2D(n_filters*1, (3,3), activation='relu',\n",
    "                   kernel_initializer=initialize_weights,padding = 'same', kernel_regularizer=l2(2e-4))(input)\n",
    "    p1 = MaxPooling2D((2,2))(c1)           # (h/2,w/2,16)\n",
    "    p1 = Dropout(dropout)(p1) \n",
    "\n",
    "    c2 = Conv2D(n_filters*2, (3,3), activation='relu',\n",
    "                   kernel_initializer=initialize_weights,padding = 'same', kernel_regularizer=l2(2e-4))(p1)\n",
    "    p2 = MaxPooling2D((2,2))(c2)  # (h/4,w/4,32)\n",
    "    p2 = Dropout(dropout)(p2) \n",
    "\n",
    "    c3 = Conv2D(n_filters*4, (3,3), activation='relu',\n",
    "                   kernel_initializer=initialize_weights, padding = 'same', kernel_regularizer=l2(2e-4))(p2)\n",
    "    p3 = MaxPooling2D((2,2))(c3)  # (h/8,w/8,64)\n",
    "    p3 = Dropout(dropout)(p3) \n",
    "\n",
    "    c4 = Conv2D(n_filters*8, (3,3), activation='relu',\n",
    "                   kernel_initializer=initialize_weights, padding = 'same', kernel_regularizer=l2(2e-4))(p3)\n",
    "    p4 = MaxPooling2D((2,2))(c4)  # (h/16,w/16,128)\n",
    "    p4 = Dropout(dropout)(p4) \n",
    "\n",
    "    c5 = Conv2D(n_filters*16, (3,3), activation='relu',\n",
    "                   kernel_initializer=initialize_weights, padding = 'same', kernel_regularizer=l2(2e-4))(p4)      # (h/16,w/16,256)\n",
    "\n",
    "\n",
    "    print(\"encoder done\")\n",
    "\n",
    "\n",
    "    u6 = Conv2DTranspose(n_filters * 8, (3, 3), strides = (2, 2), padding = 'same')(c5)  # (h/8,w/8,128)\n",
    "    u6 = concatenate([u6, c4])   # (h/8,w/8,128)\n",
    "    u6 = Dropout(dropout)(u6)\n",
    "        \n",
    "    c6 = Conv2D(n_filters*8, (3,3), activation='relu',\n",
    "                   kernel_initializer=initialize_weights, padding = 'same', kernel_regularizer=l2(2e-4))(u6) # (h/8,w/8,128)\n",
    "\n",
    "    u7 = Conv2DTranspose(n_filters * 4, (3, 3), strides = (2, 2), padding = 'same')(c6)  # (h/4,w/4,64)\n",
    "    u7 = concatenate([u7, c3])   # (h/8,w/8,128)\n",
    "    u7 = Dropout(dropout)(u7)\n",
    "    c7 = Conv2D(n_filters*4, (3,3), activation='relu',\n",
    "                   kernel_initializer=initialize_weights, padding = 'same', kernel_regularizer=l2(2e-4))(u7) # (h/4,w/4,64)\n",
    "\n",
    "    u8 = Conv2DTranspose(n_filters * 2, (3, 3), strides = (2, 2), padding = 'same')(c7)  # (h/2,w/2,32)\n",
    "    u8 = concatenate([u8, c2])   # (h/2,w/2,32)\n",
    "    u8 = Dropout(dropout)(u8)\n",
    "    c8 = Conv2D(n_filters*2, (3,3), activation='relu',\n",
    "                   kernel_initializer=initialize_weights, padding = 'same', kernel_regularizer=l2(2e-4))(u8)     # (h/2,w/2,32)\n",
    "\n",
    "    u9 = Conv2DTranspose(n_filters, (3, 3), strides = (2, 2), padding = 'same')(c8)  # (h,w,16)\n",
    "    u9 = concatenate([u9, c1])   # (h,w,16)\n",
    "    u9 = Dropout(dropout)(u9)\n",
    "    c9 = Conv2D(n_filters, (3,3), activation='relu',\n",
    "                   kernel_initializer=initialize_weights, padding = 'same', kernel_regularizer=l2(2e-4))(u9)     # (h,w,16)    \n",
    "\n",
    "\n",
    "    print(\"decoder done . . .  siamese network will start\" )\n",
    "    #X_outputs = Conv2D(1,(1,1),activation='sigmoid',name='seg_out')(c9)\n",
    "   \n",
    "    print(\"simaese model done\")\n",
    "    return Model(inputs=input, outputs=c9)\n",
    "    \n",
    "    "
   ]
  },
  {
   "cell_type": "code",
   "execution_count": 27,
   "metadata": {},
   "outputs": [],
   "source": [
    "def base_network_siamese():\n",
    "    \n",
    "    input = Input(shape=(128,128,16), name=\"base_input\")\n",
    "#     degrees  = tf.constant(0,dtype='float32')\n",
    "#     r1 = tfa.image.rotate(input[0],input[1])\n",
    "    \n",
    "    c10 = Conv2D(64, (10,10), activation='relu',\n",
    "                   kernel_initializer=initialize_weights, kernel_regularizer=l2(2e-4))(input)\n",
    "    p10 = MaxPooling2D()(c10)\n",
    "    \n",
    "#     r10 = tfa.image.rotate(p10,degrees, interpolation='BILINEAR')\n",
    "    \n",
    "    c11 = Conv2D(128, (7,7), activation='relu',\n",
    "                     kernel_initializer=initialize_weights,\n",
    "                     bias_initializer=initialize_bias, kernel_regularizer=l2(2e-4))(p10)\n",
    "    p11 = MaxPooling2D()(c11)\n",
    "    c12 = Conv2D(128, (4,4), activation='relu', kernel_initializer=initialize_weights,\n",
    "                     bias_initializer=initialize_bias, kernel_regularizer=l2(2e-4))(p11)\n",
    "    p12 = MaxPooling2D()(c12)\n",
    "    c13 = Conv2D(256, (4,4), activation='relu', kernel_initializer=initialize_weights,\n",
    "                     bias_initializer=initialize_bias, kernel_regularizer=l2(2e-4))(p12)\n",
    "    a1 = Flatten()(c13)\n",
    "    a2 = Dense(128, activation='relu',\n",
    "                   kernel_regularizer=l2(1e-3),\n",
    "                   kernel_initializer=initialize_weights,bias_initializer=initialize_bias)(a1)  \n",
    "    \n",
    "    print(\"simaese model done\")\n",
    "    return Model(inputs=input, outputs=a2)"
   ]
  },
  {
   "cell_type": "code",
   "execution_count": 28,
   "metadata": {},
   "outputs": [],
   "source": [
    "def euclidean_distance(vects):\n",
    "    x, y = vects\n",
    "    \n",
    "    x0, x1, x2, x3, x4 = tf.split(x, num_or_size_splits=5, axis=1)\n",
    "    \n",
    "    y0, y1, y2, y3, y4 = tf.split(y, num_or_size_splits=5, axis=1)\n",
    "\n",
    "#     v_size =128\n",
    "#     sum_square_1 = K.sum(K.square(x[0:128] - y[0:128]), axis=1, keepdims=True)           ## batch_size x 1 \n",
    "#     sum_square_2 = K.sum(K.square(x[0:128] - y[128:2*128]), axis=1, keepdims=True)    ## batch_size x 1 \n",
    "#     sum_square_3 = K.sum(K.square(x[0:128] - y[2*128:3*128]), axis=1, keepdims=True)    ## batch_size x 1 \n",
    "#     sum_square_4 = K.sum(K.square(x[0:128] - y[3*128:4*128]), axis=1, keepdims=True)    ## batch_size x 1 \n",
    "#     sum_square_5 = K.sum(K.square(x[0:128] - y[4*128:5*128]), axis=1, keepdims=True)    ## batch_size x 1 \n",
    "    \n",
    "    \n",
    "#     min_sum_square1 =  K.minimum(sum_square_1,sum_square_2)\n",
    "#     min_sum_square2 = K.minimum(sum_square_3,sum_square_4)\n",
    "#     min_sum_square3 = K.minimum(min_sum_square1,min_sum_square2)\n",
    "#     min_sum_square4 = K.minimum(min_sum_square3,sum_square_5)\n",
    "    \n",
    "    \n",
    "    \n",
    "    sum_square_1 = K.sum(K.square(x0 - y0), axis=1, keepdims=True)           ## batch_size x 1 \n",
    "    sum_square_2 = K.sum(K.square(x0 - y1), axis=1, keepdims=True)    ## batch_size x 1 \n",
    "    sum_square_3 = K.sum(K.square(x0 - y2), axis=1, keepdims=True)    ## batch_size x 1 \n",
    "    sum_square_4 = K.sum(K.square(x0 - y3), axis=1, keepdims=True)    ## batch_size x 1 \n",
    "    sum_square_5 = K.sum(K.square(x0 - y4), axis=1, keepdims=True)    ## batch_size x 1 \n",
    "    \n",
    "    \n",
    "    min_sum_square1 =  K.minimum(sum_square_1,sum_square_2)\n",
    "    min_sum_square2 = K.minimum(sum_square_3,sum_square_4)\n",
    "    min_sum_square3 = K.minimum(min_sum_square1,min_sum_square2)\n",
    "    min_sum_square4 = K.minimum(min_sum_square3,sum_square_5) \n",
    "    \n",
    "    \n",
    "    \n",
    "    return K.sqrt(K.maximum(min_sum_square4, K.epsilon()))\n",
    "\n",
    "\n",
    "def eucl_dist_output_shape(shapes):\n",
    "    shape1, shape2 = shapes\n",
    "    return (shape1[0], 1)"
   ]
  },
  {
   "cell_type": "code",
   "execution_count": 29,
   "metadata": {},
   "outputs": [
    {
     "name": "stderr",
     "output_type": "stream",
     "text": [
      "2022-01-30 13:49:55.071052: I tensorflow/stream_executor/cuda/cuda_gpu_executor.cc:936] successful NUMA node read from SysFS had negative value (-1), but there must be at least one NUMA node, so returning NUMA node zero\n"
     ]
    },
    {
     "name": "stdout",
     "output_type": "stream",
     "text": [
      "encoder done\n",
      "decoder done . . .  siamese network will start\n",
      "simaese model done\n"
     ]
    },
    {
     "name": "stderr",
     "output_type": "stream",
     "text": [
      "2022-01-30 13:49:55.076833: I tensorflow/stream_executor/cuda/cuda_gpu_executor.cc:936] successful NUMA node read from SysFS had negative value (-1), but there must be at least one NUMA node, so returning NUMA node zero\n",
      "2022-01-30 13:49:55.077218: I tensorflow/stream_executor/cuda/cuda_gpu_executor.cc:936] successful NUMA node read from SysFS had negative value (-1), but there must be at least one NUMA node, so returning NUMA node zero\n",
      "2022-01-30 13:49:55.078940: I tensorflow/core/platform/cpu_feature_guard.cc:151] This TensorFlow binary is optimized with oneAPI Deep Neural Network Library (oneDNN) to use the following CPU instructions in performance-critical operations:  AVX2 FMA\n",
      "To enable them in other operations, rebuild TensorFlow with the appropriate compiler flags.\n",
      "2022-01-30 13:49:55.079404: I tensorflow/stream_executor/cuda/cuda_gpu_executor.cc:936] successful NUMA node read from SysFS had negative value (-1), but there must be at least one NUMA node, so returning NUMA node zero\n",
      "2022-01-30 13:49:55.079778: I tensorflow/stream_executor/cuda/cuda_gpu_executor.cc:936] successful NUMA node read from SysFS had negative value (-1), but there must be at least one NUMA node, so returning NUMA node zero\n",
      "2022-01-30 13:49:55.080125: I tensorflow/stream_executor/cuda/cuda_gpu_executor.cc:936] successful NUMA node read from SysFS had negative value (-1), but there must be at least one NUMA node, so returning NUMA node zero\n",
      "2022-01-30 13:49:55.542743: I tensorflow/stream_executor/cuda/cuda_gpu_executor.cc:936] successful NUMA node read from SysFS had negative value (-1), but there must be at least one NUMA node, so returning NUMA node zero\n",
      "2022-01-30 13:49:55.543096: I tensorflow/stream_executor/cuda/cuda_gpu_executor.cc:936] successful NUMA node read from SysFS had negative value (-1), but there must be at least one NUMA node, so returning NUMA node zero\n",
      "2022-01-30 13:49:55.543410: I tensorflow/stream_executor/cuda/cuda_gpu_executor.cc:936] successful NUMA node read from SysFS had negative value (-1), but there must be at least one NUMA node, so returning NUMA node zero\n",
      "2022-01-30 13:49:55.543666: I tensorflow/core/common_runtime/gpu/gpu_device.cc:1525] Created device /job:localhost/replica:0/task:0/device:GPU:0 with 5123 MB memory:  -> device: 0, name: GeForce GTX 1060 6GB, pci bus id: 0000:01:00.0, compute capability: 6.1\n"
     ]
    }
   ],
   "source": [
    "base_network_1 = base_network_unet()\n",
    "#below is specific to tf2\n",
    "#plot_model(base_network_1, show_shapes=True, show_layer_names=True, to_file='base-model.png')"
   ]
  },
  {
   "cell_type": "code",
   "execution_count": 30,
   "metadata": {},
   "outputs": [
    {
     "name": "stdout",
     "output_type": "stream",
     "text": [
      "simaese model done\n"
     ]
    }
   ],
   "source": [
    "base_network_2 = base_network_siamese()\n",
    "#plot_model(base_network_2, show_shapes=True, show_layer_names=True, to_file='base-model.png')"
   ]
  },
  {
   "cell_type": "code",
   "execution_count": 32,
   "metadata": {},
   "outputs": [],
   "source": [
    "# create the left input and point to the base network\n",
    "input_a = Input(shape=(128,128,1), name=\"left_input\")\n",
    "\n",
    "seg_logit_a = base_network_1(input_a)\n",
    "\n",
    "# create the right input and point to the base network\n",
    "input_b = Input(shape=(128,128,1), name=\"right_input\")\n",
    "\n",
    "seg_logit_b = base_network_1(input_b)\n",
    "\n",
    "degree_1  = (2*np.pi/360)\n",
    "delta = .000001\n",
    "\n",
    "\n",
    "#below is specific for tf2 working\n",
    "\n",
    "seg_logit_b_1 = RandomRotation(factor=(degree_1,degree_1+delta))(seg_logit_b)\n",
    "seg_logit_b_2 = RandomRotation(factor=(2*degree_1,2*degree_1+delta))(seg_logit_b)\n",
    "seg_logit_b_n1 = RandomRotation(factor=(-1*degree_1,-1*degree_1+delta))(seg_logit_b)\n",
    "seg_logit_b_n2 = RandomRotation(factor=(-2*degree_1,-2*degree_1+delta))(seg_logit_b)\n",
    "\n",
    "\n",
    "## below is specific for tf1 and not wokring\n",
    "\n",
    "# seg_logit_b_1 = random_rotation(seg_logit_b,rg=1)\n",
    "# seg_logit_b_2 = random_rotation(seg_logit_b,rg=2)\n",
    "# seg_logit_b_n1 = random_rotation(seg_logit_b,rg=-1)\n",
    "# seg_logit_b_n2 = random_rotation(seg_logit_b,rg=-2)\n",
    "\n",
    "\n",
    "\n",
    "vect_a0 = base_network_2(seg_logit_a)\n",
    "\n",
    "\n",
    "\n",
    "\n",
    "\n",
    "vect_0 = base_network_2(seg_logit_b)\n",
    "vect_1 = base_network_2(seg_logit_b_1)\n",
    "vect_2 = base_network_2(seg_logit_b_2)\n",
    "vect_n1 = base_network_2(seg_logit_b_n1)\n",
    "vect_n2 = base_network_2(seg_logit_b_n2)\n",
    "\n",
    "vect_output_b = concatenate([vect_0, vect_1, vect_2, vect_n1, vect_n2]) \n",
    "\n",
    "vect_output_a = concatenate([vect_a0, vect_1, vect_2, vect_n1, vect_n2])  \n",
    "\n",
    "# # measure the similarity of the two vector outputs\n",
    "output_siasmese = Lambda(euclidean_distance, name=\"output_layer\", output_shape=(128,1))([vect_output_a, vect_output_b])\n",
    "\n",
    "# # specify the inputs and output of the model\n",
    "model = Model([input_a, input_b], output_siasmese)\n"
   ]
  },
  {
   "cell_type": "code",
   "execution_count": 33,
   "metadata": {},
   "outputs": [],
   "source": [
    "#plot_model(model, show_shapes=True, show_layer_names=True, to_file='outer-model.png')"
   ]
  },
  {
   "cell_type": "code",
   "execution_count": 34,
   "metadata": {},
   "outputs": [
    {
     "name": "stdout",
     "output_type": "stream",
     "text": [
      "Model: \"model_2\"\n",
      "__________________________________________________________________________________________________\n",
      " Layer (type)                   Output Shape         Param #     Connected to                     \n",
      "==================================================================================================\n",
      " left_input (InputLayer)        [(None, 128, 128, 1  0           []                               \n",
      "                                )]                                                                \n",
      "                                                                                                  \n",
      " right_input (InputLayer)       [(None, 128, 128, 1  0           []                               \n",
      "                                )]                                                                \n",
      "                                                                                                  \n",
      " model (Functional)             (None, 128, 128, 16  1176160     ['left_input[0][0]',             \n",
      "                                )                                 'right_input[0][0]']            \n",
      "                                                                                                  \n",
      " random_rotation (RandomRotatio  (None, 128, 128, 16  0          ['model[1][0]']                  \n",
      " n)                             )                                                                 \n",
      "                                                                                                  \n",
      " random_rotation_1 (RandomRotat  (None, 128, 128, 16  0          ['model[1][0]']                  \n",
      " ion)                           )                                                                 \n",
      "                                                                                                  \n",
      " random_rotation_2 (RandomRotat  (None, 128, 128, 16  0          ['model[1][0]']                  \n",
      " ion)                           )                                                                 \n",
      "                                                                                                  \n",
      " random_rotation_3 (RandomRotat  (None, 128, 128, 16  0          ['model[1][0]']                  \n",
      " ion)                           )                                                                 \n",
      "                                                                                                  \n",
      " model_1 (Functional)           (None, 128)          3388096     ['model[0][0]',                  \n",
      "                                                                  'model[1][0]',                  \n",
      "                                                                  'random_rotation[0][0]',        \n",
      "                                                                  'random_rotation_1[0][0]',      \n",
      "                                                                  'random_rotation_2[0][0]',      \n",
      "                                                                  'random_rotation_3[0][0]']      \n",
      "                                                                                                  \n",
      " concatenate_5 (Concatenate)    (None, 640)          0           ['model_1[0][0]',                \n",
      "                                                                  'model_1[2][0]',                \n",
      "                                                                  'model_1[3][0]',                \n",
      "                                                                  'model_1[4][0]',                \n",
      "                                                                  'model_1[5][0]']                \n",
      "                                                                                                  \n",
      " concatenate_4 (Concatenate)    (None, 640)          0           ['model_1[1][0]',                \n",
      "                                                                  'model_1[2][0]',                \n",
      "                                                                  'model_1[3][0]',                \n",
      "                                                                  'model_1[4][0]',                \n",
      "                                                                  'model_1[5][0]']                \n",
      "                                                                                                  \n",
      " output_layer (Lambda)          (None, 1)            0           ['concatenate_5[0][0]',          \n",
      "                                                                  'concatenate_4[0][0]']          \n",
      "                                                                                                  \n",
      "==================================================================================================\n",
      "Total params: 4,564,256\n",
      "Trainable params: 4,564,256\n",
      "Non-trainable params: 0\n",
      "__________________________________________________________________________________________________\n"
     ]
    }
   ],
   "source": [
    "model.summary()"
   ]
  },
  {
   "cell_type": "code",
   "execution_count": null,
   "metadata": {},
   "outputs": [],
   "source": []
  },
  {
   "cell_type": "code",
   "execution_count": 35,
   "metadata": {},
   "outputs": [],
   "source": [
    "def contrastive_loss_with_margin(margin):\n",
    "    def contrastive_loss(y_true, y_pred):\n",
    "        '''Contrastive loss from Hadsell-et-al.'06\n",
    "        http://yann.lecun.com/exdb/publis/pdf/hadsell-chopra-lecun-06.pdf\n",
    "        '''\n",
    "        square_pred = K.square(y_pred)\n",
    "        margin_square = K.square(K.maximum(margin - y_pred, 0))\n",
    "        return K.mean(y_true * square_pred + (1 - y_true) * margin_square)\n",
    "    return contrastive_loss"
   ]
  },
  {
   "cell_type": "code",
   "execution_count": null,
   "metadata": {},
   "outputs": [],
   "source": []
  },
  {
   "cell_type": "code",
   "execution_count": 36,
   "metadata": {},
   "outputs": [],
   "source": [
    "#optimizer = keras.optimizers.Adam(lr = 0.0001)\n",
    "\n",
    "\n",
    "#siamese_model.compile(loss=custom_loss, optimizer=optimizer, metrics = ['mae', 'acc'])\n",
    "model.compile(loss = {'output_layer' : contrastive_loss_with_margin(margin=1)\n",
    "                     },optimizer='Adam', metrics = ['mae', 'acc'])"
   ]
  },
  {
   "cell_type": "code",
   "execution_count": 37,
   "metadata": {},
   "outputs": [],
   "source": [
    "#steps_per_epoch = train_length // batch_size\n",
    "batch_size = 4\n",
    "steps_per_epoch = len(folder_name_list) // batch_size\n",
    "validation_steps = len(folder_name_list_test) // batch_size"
   ]
  },
  {
   "cell_type": "code",
   "execution_count": 38,
   "metadata": {},
   "outputs": [],
   "source": [
    "\n",
    "# history = siamese_model.fit_generator(imageLoader(path_input_images,folder_name_list,batch_size),steps_per_epoch,\n",
    "#                     validation_data = imageLoader(path_input_images,folder_name_list_test,batch_size), \n",
    "#                     validation_steps=validation_steps, epochs=50)"
   ]
  },
  {
   "cell_type": "code",
   "execution_count": 39,
   "metadata": {},
   "outputs": [
    {
     "name": "stdout",
     "output_type": "stream",
     "text": [
      "Epoch 1/50\n"
     ]
    },
    {
     "name": "stderr",
     "output_type": "stream",
     "text": [
      "/tmp/ipykernel_3271/3126931981.py:1: UserWarning: `Model.fit_generator` is deprecated and will be removed in a future version. Please use `Model.fit`, which supports generators.\n",
      "  history = model.fit_generator(imageLoader(path_input_images,folder_name_list,mask_path,batch_size),steps_per_epoch,\n",
      "2022-01-30 13:50:57.293317: I tensorflow/stream_executor/cuda/cuda_dnn.cc:368] Loaded cuDNN version 8100\n",
      "2022-01-30 13:50:58.681076: I tensorflow/core/util/cuda_solvers.cc:179] Creating GpuSolver handles for stream 0x672a8c0\n"
     ]
    },
    {
     "name": "stdout",
     "output_type": "stream",
     "text": [
      "30/30 [==============================] - 21s 478ms/step - loss: 0.8112 - mae: 0.9334 - acc: 0.1854 - val_loss: 0.7700 - val_mae: 0.6930 - val_acc: 0.3000\n",
      "Epoch 2/50\n",
      "30/30 [==============================] - 14s 459ms/step - loss: 0.6844 - mae: 0.9002 - acc: 0.1500 - val_loss: 0.5996 - val_mae: 0.9062 - val_acc: 0.0725\n",
      "Epoch 3/50\n",
      "30/30 [==============================] - 14s 462ms/step - loss: 0.5817 - mae: 0.9232 - acc: 0.0729 - val_loss: 0.6198 - val_mae: 0.6886 - val_acc: 0.2500\n",
      "Epoch 4/50\n",
      "30/30 [==============================] - 14s 462ms/step - loss: 0.5321 - mae: 0.8829 - acc: 0.0854 - val_loss: 0.5170 - val_mae: 0.7953 - val_acc: 0.1075\n",
      "Epoch 5/50\n",
      "30/30 [==============================] - 14s 463ms/step - loss: 0.4721 - mae: 0.8902 - acc: 0.0688 - val_loss: 0.4778 - val_mae: 0.7930 - val_acc: 0.1275\n",
      "Epoch 6/50\n",
      "30/30 [==============================] - 14s 464ms/step - loss: 0.4232 - mae: 0.9914 - acc: 0.0604 - val_loss: 0.4134 - val_mae: 0.9092 - val_acc: 0.0500\n",
      "Epoch 7/50\n",
      "30/30 [==============================] - 14s 464ms/step - loss: 0.3905 - mae: 0.9810 - acc: 0.0479 - val_loss: 0.4522 - val_mae: 0.7155 - val_acc: 0.2275\n",
      "Epoch 8/50\n",
      "30/30 [==============================] - 14s 464ms/step - loss: 0.3727 - mae: 0.9115 - acc: 0.0458 - val_loss: 0.3771 - val_mae: 0.8198 - val_acc: 0.1075\n",
      "Epoch 9/50\n",
      "30/30 [==============================] - 14s 464ms/step - loss: 0.3581 - mae: 0.9446 - acc: 0.0729 - val_loss: 0.3549 - val_mae: 0.9541 - val_acc: 0.0800\n",
      "Epoch 10/50\n",
      "30/30 [==============================] - 14s 464ms/step - loss: 0.3576 - mae: 0.9191 - acc: 0.0854 - val_loss: 0.3371 - val_mae: 0.8779 - val_acc: 0.0800\n",
      "Epoch 11/50\n",
      "30/30 [==============================] - 14s 465ms/step - loss: 0.3242 - mae: 0.9096 - acc: 0.0667 - val_loss: 0.3187 - val_mae: 0.8671 - val_acc: 0.0925\n",
      "Epoch 12/50\n",
      "30/30 [==============================] - 14s 465ms/step - loss: 0.2981 - mae: 0.9687 - acc: 0.0667 - val_loss: 0.3263 - val_mae: 0.7832 - val_acc: 0.1475\n",
      "Epoch 13/50\n",
      "30/30 [==============================] - 16s 542ms/step - loss: 0.2809 - mae: 0.9972 - acc: 0.0500 - val_loss: 0.2949 - val_mae: 0.9256 - val_acc: 0.1100\n",
      "Epoch 14/50\n",
      "30/30 [==============================] - 14s 465ms/step - loss: 0.2486 - mae: 0.9998 - acc: 0.0250 - val_loss: 0.2711 - val_mae: 0.8922 - val_acc: 0.1050\n",
      "Epoch 15/50\n",
      "30/30 [==============================] - 14s 466ms/step - loss: 0.2537 - mae: 0.9528 - acc: 0.0583 - val_loss: 0.2554 - val_mae: 0.8614 - val_acc: 0.0925\n",
      "Epoch 16/50\n",
      "30/30 [==============================] - 14s 465ms/step - loss: 0.2258 - mae: 0.9995 - acc: 0.0375 - val_loss: 0.2421 - val_mae: 0.9650 - val_acc: 0.0625\n",
      "Epoch 17/50\n",
      "30/30 [==============================] - 14s 465ms/step - loss: 0.2252 - mae: 1.0188 - acc: 0.0375 - val_loss: 0.2639 - val_mae: 0.7989 - val_acc: 0.1625\n",
      "Epoch 18/50\n",
      "30/30 [==============================] - 14s 464ms/step - loss: 0.2340 - mae: 0.9219 - acc: 0.0708 - val_loss: 0.2454 - val_mae: 0.8212 - val_acc: 0.1325\n",
      "Epoch 19/50\n",
      "30/30 [==============================] - 14s 465ms/step - loss: 0.2077 - mae: 0.9395 - acc: 0.0312 - val_loss: 0.2108 - val_mae: 0.9149 - val_acc: 0.0525\n",
      "Epoch 20/50\n",
      "30/30 [==============================] - 14s 466ms/step - loss: 0.1937 - mae: 1.0010 - acc: 0.0396 - val_loss: 0.2083 - val_mae: 0.9382 - val_acc: 0.0800\n",
      "Epoch 21/50\n",
      "30/30 [==============================] - 14s 466ms/step - loss: 0.1924 - mae: 0.9601 - acc: 0.0396 - val_loss: 0.2309 - val_mae: 0.8062 - val_acc: 0.1400\n",
      "Epoch 22/50\n",
      "30/30 [==============================] - 14s 466ms/step - loss: 0.1740 - mae: 0.9915 - acc: 0.0208 - val_loss: 0.2045 - val_mae: 0.8395 - val_acc: 0.0750\n",
      "Epoch 23/50\n",
      "30/30 [==============================] - 14s 466ms/step - loss: 0.1704 - mae: 0.9713 - acc: 0.0250 - val_loss: 0.1927 - val_mae: 0.8682 - val_acc: 0.0700\n",
      "Epoch 24/50\n",
      "30/30 [==============================] - 14s 466ms/step - loss: 0.1553 - mae: 1.0032 - acc: 0.0167 - val_loss: 0.1798 - val_mae: 0.9162 - val_acc: 0.0725\n",
      "Epoch 25/50\n",
      "30/30 [==============================] - 14s 466ms/step - loss: 0.1594 - mae: 0.9742 - acc: 0.0208 - val_loss: 0.1797 - val_mae: 0.8378 - val_acc: 0.0650\n",
      "Epoch 26/50\n",
      "30/30 [==============================] - 14s 466ms/step - loss: 0.1474 - mae: 0.9645 - acc: 0.0146 - val_loss: 0.1688 - val_mae: 0.8894 - val_acc: 0.0500\n",
      "Epoch 27/50\n",
      "30/30 [==============================] - 14s 466ms/step - loss: 0.1432 - mae: 0.9589 - acc: 0.0208 - val_loss: 0.1596 - val_mae: 0.8932 - val_acc: 0.0450\n",
      "Epoch 28/50\n",
      "30/30 [==============================] - 14s 467ms/step - loss: 0.1448 - mae: 0.9531 - acc: 0.0188 - val_loss: 0.1682 - val_mae: 0.9322 - val_acc: 0.0750\n",
      "Epoch 29/50\n",
      "30/30 [==============================] - 14s 467ms/step - loss: 0.1335 - mae: 1.0054 - acc: 0.0104 - val_loss: 0.1678 - val_mae: 0.8878 - val_acc: 0.0750\n",
      "Epoch 30/50\n",
      "30/30 [==============================] - 14s 466ms/step - loss: 0.1209 - mae: 1.0017 - acc: 0.0083 - val_loss: 0.1438 - val_mae: 0.9437 - val_acc: 0.0500\n",
      "Epoch 31/50\n",
      "30/30 [==============================] - 14s 467ms/step - loss: 0.1170 - mae: 1.0197 - acc: 0.0083 - val_loss: 0.1622 - val_mae: 0.8461 - val_acc: 0.1025\n",
      "Epoch 32/50\n",
      "30/30 [==============================] - 14s 466ms/step - loss: 0.1160 - mae: 1.0132 - acc: 0.0146 - val_loss: 0.1403 - val_mae: 0.9668 - val_acc: 0.0600\n",
      "Epoch 33/50\n",
      "30/30 [==============================] - 14s 468ms/step - loss: 0.1112 - mae: 1.0082 - acc: 0.0083 - val_loss: 0.1385 - val_mae: 0.9093 - val_acc: 0.0750\n",
      "Epoch 34/50\n",
      "30/30 [==============================] - 14s 467ms/step - loss: 0.1059 - mae: 1.0398 - acc: 0.0104 - val_loss: 0.1513 - val_mae: 0.8408 - val_acc: 0.0825\n",
      "Epoch 35/50\n",
      "30/30 [==============================] - 14s 469ms/step - loss: 0.1052 - mae: 1.0260 - acc: 0.0167 - val_loss: 0.1284 - val_mae: 0.8758 - val_acc: 0.0400\n",
      "Epoch 36/50\n",
      "30/30 [==============================] - 14s 468ms/step - loss: 0.1012 - mae: 1.0184 - acc: 0.0083 - val_loss: 0.1381 - val_mae: 0.8690 - val_acc: 0.0750\n",
      "Epoch 37/50\n",
      "30/30 [==============================] - 14s 468ms/step - loss: 0.1001 - mae: 1.0331 - acc: 0.0146 - val_loss: 0.1199 - val_mae: 0.9504 - val_acc: 0.0500\n",
      "Epoch 38/50\n",
      "30/30 [==============================] - 14s 467ms/step - loss: 0.0952 - mae: 1.0098 - acc: 0.0042 - val_loss: 0.1262 - val_mae: 0.8995 - val_acc: 0.0625\n",
      "Epoch 39/50\n",
      "30/30 [==============================] - 14s 468ms/step - loss: 0.0917 - mae: 1.0178 - acc: 0.0063 - val_loss: 0.1271 - val_mae: 0.9552 - val_acc: 0.0725\n",
      "Epoch 40/50\n",
      "30/30 [==============================] - 14s 469ms/step - loss: 0.0910 - mae: 1.0031 - acc: 0.0083 - val_loss: 0.1116 - val_mae: 0.9984 - val_acc: 0.0450\n",
      "Epoch 41/50\n",
      "30/30 [==============================] - 14s 469ms/step - loss: 0.0873 - mae: 1.0084 - acc: 0.0125 - val_loss: 0.1281 - val_mae: 0.9155 - val_acc: 0.0850\n",
      "Epoch 42/50\n",
      "30/30 [==============================] - 14s 467ms/step - loss: 0.0844 - mae: 1.0258 - acc: 0.0104 - val_loss: 0.1193 - val_mae: 0.8815 - val_acc: 0.0675\n",
      "Epoch 43/50\n",
      "30/30 [==============================] - 14s 468ms/step - loss: 0.0805 - mae: 1.0388 - acc: 0.0063 - val_loss: 0.1186 - val_mae: 0.8911 - val_acc: 0.0800\n",
      "Epoch 44/50\n",
      "30/30 [==============================] - 14s 468ms/step - loss: 0.0722 - mae: 1.0260 - acc: 0.0000e+00 - val_loss: 0.1279 - val_mae: 0.8344 - val_acc: 0.1075\n",
      "Epoch 45/50\n",
      "30/30 [==============================] - 14s 468ms/step - loss: 0.0742 - mae: 1.0163 - acc: 0.0083 - val_loss: 0.1165 - val_mae: 0.8566 - val_acc: 0.0975\n",
      "Epoch 46/50\n",
      "30/30 [==============================] - 14s 468ms/step - loss: 0.0711 - mae: 1.0272 - acc: 0.0021 - val_loss: 0.1131 - val_mae: 0.8737 - val_acc: 0.0700\n",
      "Epoch 47/50\n",
      "30/30 [==============================] - 14s 468ms/step - loss: 0.0672 - mae: 1.0440 - acc: 0.0021 - val_loss: 0.1086 - val_mae: 0.8976 - val_acc: 0.0625\n",
      "Epoch 48/50\n",
      "30/30 [==============================] - 14s 479ms/step - loss: 0.0663 - mae: 1.0651 - acc: 0.0042 - val_loss: 0.1013 - val_mae: 0.9252 - val_acc: 0.0550\n",
      "Epoch 49/50\n",
      "30/30 [==============================] - 14s 469ms/step - loss: 0.0632 - mae: 1.0404 - acc: 0.0021 - val_loss: 0.0971 - val_mae: 0.9532 - val_acc: 0.0600\n",
      "Epoch 50/50\n"
     ]
    },
    {
     "name": "stdout",
     "output_type": "stream",
     "text": [
      "30/30 [==============================] - 14s 462ms/step - loss: 0.0658 - mae: 1.0454 - acc: 0.0063 - val_loss: 0.1036 - val_mae: 0.9612 - val_acc: 0.0600\n"
     ]
    }
   ],
   "source": [
    "history = model.fit_generator(imageLoader(path_input_images,folder_name_list,mask_path,batch_size),steps_per_epoch,\n",
    "                    validation_data = imageLoader(path_input_images,folder_name_list_test,mask_path,batch_size), \n",
    "                    validation_steps=validation_steps, epochs=50)"
   ]
  },
  {
   "cell_type": "code",
   "execution_count": null,
   "metadata": {},
   "outputs": [],
   "source": [
    "accuracy_list  = history.history['output_layer_mae']\n",
    "\n",
    "print(accuracy_list)"
   ]
  },
  {
   "cell_type": "code",
   "execution_count": null,
   "metadata": {},
   "outputs": [],
   "source": [
    "# import matplotlib.pyplot as plt\n",
    "# # Let's take a look at how we did during training.\n",
    "# acc = history.history['model_4_acc']\n",
    "# val_acc = history.history['val_model_4_acc']\n",
    "\n",
    "# loss = history.history['model_4_loss']\n",
    "# val_loss = history.history['val_model_4_loss']\n",
    "# epochs = range(len(acc))\n",
    "\n",
    "# # Accuracy\n",
    "# fig, ax = plt.subplots(1, 2, figsize=(30, 10))\n",
    "# ax[0].plot(epochs, acc, 'r', label='Training accuracy')\n",
    "# ax[0].plot(epochs, val_acc, 'b', label='Validation accuracy')\n",
    "# ax[0].set_title('Training and validation accuracy')\n",
    "# ax[0].legend()\n",
    "\n",
    "# # Loss\n",
    "# ax[1].plot(epochs, loss, 'r', label='Training Loss')\n",
    "# ax[1].plot(epochs, val_loss, 'b', label='Validation Loss')\n",
    "# ax[1].set_title('Training and validation loss')\n",
    "# ax[1].legend()\n",
    "\n",
    "# plt.show()"
   ]
  },
  {
   "cell_type": "code",
   "execution_count": null,
   "metadata": {},
   "outputs": [],
   "source": [
    "model_save_path = '/tensorflow/siamese_model/siamese_unet_pixel_half_seg_rotation_learn_mask_30epoch_120_train_test.h5'\n",
    "model.save(model_save_path)"
   ]
  },
  {
   "cell_type": "code",
   "execution_count": null,
   "metadata": {},
   "outputs": [],
   "source": [
    "model = load_model(model_save_path,custom_objects={'contrastive_loss':contrastive_loss_with_margin(margin=1)})"
   ]
  },
  {
   "cell_type": "code",
   "execution_count": 40,
   "metadata": {},
   "outputs": [],
   "source": [
    "Out = next((imageLoader(path_input_images,folder_name_list_test,mask_path,1)))"
   ]
  },
  {
   "cell_type": "code",
   "execution_count": 41,
   "metadata": {},
   "outputs": [
    {
     "name": "stdout",
     "output_type": "stream",
     "text": [
      "1.0\n",
      "(4, 128, 128, 1)\n"
     ]
    }
   ],
   "source": [
    "images_L_R = Out[0]\n",
    "image_L = images_L_R[0]\n",
    "image_R = images_L_R[1]\n",
    "\n",
    "# mask_L_R_class = Out[1]\n",
    "\n",
    "# mask_L = mask_L_R_class[0]\n",
    "# mask_R = mask_L_R_class[1]\n",
    "y = Out[1]\n",
    "print(y[0])\n",
    "print(image_L.shape)\n",
    "#plt.title('left_mask')\n",
    "#plt.imshow(np.squeeze(mask_R[1]))\n",
    "#plt.imshow(image_R[1])\n",
    "#plt.show()"
   ]
  },
  {
   "cell_type": "code",
   "execution_count": 42,
   "metadata": {},
   "outputs": [
    {
     "name": "stdout",
     "output_type": "stream",
     "text": [
      "1/1 [==============================] - 1s 755ms/step\n"
     ]
    }
   ],
   "source": [
    "\n",
    "\n",
    "\n",
    "\n",
    "preds = model.predict([image_L,image_R])\n",
    "\n",
    "\n",
    "\n"
   ]
  },
  {
   "cell_type": "code",
   "execution_count": 43,
   "metadata": {},
   "outputs": [
    {
     "data": {
      "image/png": "[encoded data removed]",
      "text/plain": [
       "<Figure size 432x288 with 1 Axes>"
      ]
     },
     "metadata": {
      "needs_background": "light"
     },
     "output_type": "display_data"
    }
   ],
   "source": [
    "\n",
    "#plt.imshow(np.squeeze(mask_R[1]))\n",
    "plt.imshow(image_R[1],cmap='gray')\n",
    "plt.show()"
   ]
  },
  {
   "cell_type": "code",
   "execution_count": 44,
   "metadata": {},
   "outputs": [],
   "source": [
    "# out_image = np.squeeze(preds[1][1])\n",
    "# preds[0].shape"
   ]
  },
  {
   "cell_type": "code",
   "execution_count": 45,
   "metadata": {},
   "outputs": [],
   "source": [
    "\n",
    "# dummy_image = image_R[1].copy() \n",
    "# dummy_image[out_image<.5] = 0\n",
    "# plt.imshow(dummy_image,cmap='gray')\n",
    "# plt.show()"
   ]
  },
  {
   "cell_type": "code",
   "execution_count": 46,
   "metadata": {},
   "outputs": [
    {
     "name": "stdout",
     "output_type": "stream",
     "text": [
      "[[0.09939823]\n",
      " [0.1419605 ]\n",
      " [0.6913125 ]\n",
      " [0.48256335]]\n"
     ]
    }
   ],
   "source": [
    "y = preds\n",
    "print(y)"
   ]
  },
  {
   "cell_type": "markdown",
   "metadata": {},
   "source": [
    "## Test data for model "
   ]
  },
  {
   "cell_type": "code",
   "execution_count": 47,
   "metadata": {},
   "outputs": [],
   "source": [
    "test_out1,test_out2,y_class = read_simaese_parametric_data(path_input_images,folder_name_list[0:100],mask_path,100)"
   ]
  },
  {
   "cell_type": "code",
   "execution_count": 48,
   "metadata": {},
   "outputs": [],
   "source": [
    "test_out1 = test_out1/255.0\n",
    "test_out2 = test_out2/255.0\n",
    "# test_seg1 = test_seg1/255.0\n",
    "# test_seg2 = test_seg2/255.0"
   ]
  },
  {
   "cell_type": "code",
   "execution_count": 49,
   "metadata": {},
   "outputs": [
    {
     "name": "stderr",
     "output_type": "stream",
     "text": [
      "2022-01-30 15:00:00.824833: W tensorflow/core/common_runtime/bfc_allocator.cc:275] Allocator (GPU_0_bfc) ran out of memory trying to allocate 2.72GiB with freed_by_count=0. The caller indicates that this is not a failure, but may mean that there could be performance gains if more memory were available.\n"
     ]
    },
    {
     "name": "stdout",
     "output_type": "stream",
     "text": [
      "13/13 [==============================] - 4s 187ms/step\n"
     ]
    }
   ],
   "source": [
    " y_pred = model.predict([test_out1,test_out2])"
   ]
  },
  {
   "cell_type": "code",
   "execution_count": 50,
   "metadata": {},
   "outputs": [],
   "source": [
    "#test_seg2.shape"
   ]
  },
  {
   "cell_type": "code",
   "execution_count": 51,
   "metadata": {},
   "outputs": [],
   "source": [
    "#y_pred"
   ]
  },
  {
   "cell_type": "code",
   "execution_count": 52,
   "metadata": {},
   "outputs": [
    {
     "name": "stdout",
     "output_type": "stream",
     "text": [
      "13/13 [==============================] - 0s 21ms/step\n"
     ]
    },
    {
     "name": "stderr",
     "output_type": "stream",
     "text": [
      "2022-01-30 15:00:06.968364: W tensorflow/core/framework/cpu_allocator_impl.cc:82] Allocation of 419430400 exceeds 10% of free system memory.\n"
     ]
    }
   ],
   "source": [
    "seg_out1 = base_network_1.predict(test_out1)"
   ]
  },
  {
   "cell_type": "code",
   "execution_count": 53,
   "metadata": {},
   "outputs": [
    {
     "data": {
      "text/plain": [
       "(400, 128, 128, 16)"
      ]
     },
     "execution_count": 53,
     "metadata": {},
     "output_type": "execute_result"
    }
   ],
   "source": [
    "# test_seg_out1 = Conv2D(1,(1,1),activation='sigmoid',name='seg_out')(seg_out1)\n",
    "test_seg_out1 = seg_out1.copy()\n",
    "test_seg_out1.shape"
   ]
  },
  {
   "cell_type": "code",
   "execution_count": 54,
   "metadata": {},
   "outputs": [],
   "source": [
    "def show_images(test_out1,test_seg_out1):\n",
    "    #num_images = len(test_seg_out1)\n",
    "    num_images = 20\n",
    "    for i in range(0,num_images,4):\n",
    "        dummy_image = np.squeeze(test_out1[i]).copy()\n",
    "        seg_img = np.squeeze(test_seg_out1[i])\n",
    "        dummy_image[seg_img<.1] = 0\n",
    "        plt.imshow(np.squeeze(test_out1[i]),cmap='gray')\n",
    "        plt.show()\n",
    "        plt.imshow(seg_img,cmap='gray')\n",
    "        plt.show()"
   ]
  },
  {
   "cell_type": "code",
   "execution_count": 55,
   "metadata": {},
   "outputs": [
    {
     "ename": "IndexError",
     "evalue": "too many indices for array: array is 2-dimensional, but 3 were indexed",
     "output_type": "error",
     "traceback": [
      "\u001b[0;31m---------------------------------------------------------------------------\u001b[0m",
      "\u001b[0;31mIndexError\u001b[0m                                Traceback (most recent call last)",
      "Input \u001b[0;32mIn [55]\u001b[0m, in \u001b[0;36m<module>\u001b[0;34m\u001b[0m\n\u001b[0;32m----> 1\u001b[0m \u001b[43mshow_images\u001b[49m\u001b[43m(\u001b[49m\u001b[43mtest_out1\u001b[49m\u001b[43m,\u001b[49m\u001b[43mtest_seg_out1\u001b[49m\u001b[43m)\u001b[49m\n",
      "Input \u001b[0;32mIn [54]\u001b[0m, in \u001b[0;36mshow_images\u001b[0;34m(test_out1, test_seg_out1)\u001b[0m\n\u001b[1;32m      5\u001b[0m dummy_image \u001b[38;5;241m=\u001b[39m np\u001b[38;5;241m.\u001b[39msqueeze(test_out1[i])\u001b[38;5;241m.\u001b[39mcopy()\n\u001b[1;32m      6\u001b[0m seg_img \u001b[38;5;241m=\u001b[39m np\u001b[38;5;241m.\u001b[39msqueeze(test_seg_out1[i])\n\u001b[0;32m----> 7\u001b[0m dummy_image[seg_img\u001b[38;5;241m<\u001b[39m\u001b[38;5;241m.1\u001b[39m] \u001b[38;5;241m=\u001b[39m \u001b[38;5;241m0\u001b[39m\n\u001b[1;32m      8\u001b[0m plt\u001b[38;5;241m.\u001b[39mimshow(np\u001b[38;5;241m.\u001b[39msqueeze(test_out1[i]),cmap\u001b[38;5;241m=\u001b[39m\u001b[38;5;124m'\u001b[39m\u001b[38;5;124mgray\u001b[39m\u001b[38;5;124m'\u001b[39m)\n\u001b[1;32m      9\u001b[0m plt\u001b[38;5;241m.\u001b[39mshow()\n",
      "\u001b[0;31mIndexError\u001b[0m: too many indices for array: array is 2-dimensional, but 3 were indexed"
     ]
    }
   ],
   "source": [
    "show_images(test_out1,test_seg_out1)"
   ]
  },
  {
   "cell_type": "code",
   "execution_count": null,
   "metadata": {},
   "outputs": [],
   "source": []
  },
  {
   "cell_type": "code",
   "execution_count": 56,
   "metadata": {},
   "outputs": [],
   "source": [
    "def compute_accuracy(y_true, y_pred):\n",
    "    '''Compute classification accuracy with a fixed threshold on distances.\n",
    "    '''\n",
    "    pred = y_pred.ravel() < 0.7\n",
    "    return np.mean(pred == y_true)"
   ]
  },
  {
   "cell_type": "code",
   "execution_count": 57,
   "metadata": {},
   "outputs": [
    {
     "data": {
      "text/plain": [
       "0.99"
      ]
     },
     "execution_count": 57,
     "metadata": {},
     "output_type": "execute_result"
    }
   ],
   "source": [
    "compute_accuracy(y_class, y_pred)      ## trained on 120 images and tested on 100 persons "
   ]
  },
  {
   "cell_type": "code",
   "execution_count": null,
   "metadata": {},
   "outputs": [],
   "source": [
    "!{sys.executable} -m pip install -U scikit-learn scipy"
   ]
  },
  {
   "cell_type": "code",
   "execution_count": null,
   "metadata": {},
   "outputs": [],
   "source": [
    "import scipy.stats\n",
    "from sklearn.metrics import confusion_matrix\n",
    "#\n",
    "\n",
    "confusion_matrix(y_class, y_pred.ravel() < 0.5)                      ##   [TN , FP]\n",
    "                                                                     ##     [FN , TP] "
   ]
  },
  {
   "cell_type": "code",
   "execution_count": null,
   "metadata": {},
   "outputs": [],
   "source": []
  },
  {
   "cell_type": "code",
   "execution_count": null,
   "metadata": {},
   "outputs": [],
   "source": []
  },
  {
   "cell_type": "code",
   "execution_count": null,
   "metadata": {},
   "outputs": [],
   "source": [
    "def rotate_image_tensor(image, angle, mode='black'):\n",
    "    \"\"\"\n",
    "    Rotates a 3D tensor (HWD), which represents an image by given radian angle.\n",
    "\n",
    "    New image has the same size as the input image.\n",
    "\n",
    "    mode controls what happens to border pixels.\n",
    "    mode = 'black' results in black bars (value 0 in unknown areas)\n",
    "    mode = 'white' results in value 255 in unknown areas\n",
    "    mode = 'ones' results in value 1 in unknown areas\n",
    "    mode = 'repeat' keeps repeating the closest pixel known\n",
    "    \"\"\"\n",
    "    s = image.get_shape().as_list()\n",
    "    assert len(s) == 3, \"Input needs to be 3D.\"\n",
    "    assert (mode == 'repeat') or (mode == 'black') or (mode == 'white') or (mode == 'ones'), \"Unknown boundary mode.\"\n",
    "    image_center = [np.floor(x/2) for x in s]\n",
    "\n",
    "    # Coordinates of new image\n",
    "    coord1 = tf.range(s[0])\n",
    "    coord2 = tf.range(s[1])\n",
    "\n",
    "    # Create vectors of those coordinates in order to vectorize the image\n",
    "    coord1_vec = tf.tile(coord1, [s[1]])\n",
    "\n",
    "    coord2_vec_unordered = tf.tile(coord2, [s[0]])\n",
    "    coord2_vec_unordered = tf.reshape(coord2_vec_unordered, [s[0], s[1]])\n",
    "    coord2_vec = tf.reshape(tf.transpose(coord2_vec_unordered, [1, 0]), [-1])\n",
    "\n",
    "    # center coordinates since rotation center is supposed to be in the image center\n",
    "    coord1_vec_centered = coord1_vec - image_center[0]\n",
    "    coord2_vec_centered = coord2_vec - image_center[1]\n",
    "\n",
    "    coord_new_centered = tf.cast(tf.pack([coord1_vec_centered, coord2_vec_centered]), tf.float32)"
   ]
  },
  {
   "cell_type": "code",
   "execution_count": null,
   "metadata": {},
   "outputs": [],
   "source": [
    "  image = tf.constant(np.zeros((384, 512, 5)), dtype = tf.float32)\n",
    "  image = tfa.image.rotate(image, tf.random.uniform(shape = [], minval = -0.3, maxval = 0.3))"
   ]
  },
  {
   "cell_type": "code",
   "execution_count": null,
   "metadata": {},
   "outputs": [],
   "source": [
    "tf.random.uniform(shape = [], minval = -0.3, maxval = 0.3)"
   ]
  },
  {
   "cell_type": "code",
   "execution_count": null,
   "metadata": {},
   "outputs": [],
   "source": [
    "tf.constant(0,dtype='float32')"
   ]
  },
  {
   "cell_type": "code",
   "execution_count": null,
   "metadata": {},
   "outputs": [],
   "source": [
    "128*5 # (2*np.pi/360)*   "
   ]
  },
  {
   "cell_type": "code",
   "execution_count": null,
   "metadata": {},
   "outputs": [],
   "source": [
    "c = tf.constant([1.0, 2.0, 3.0, 4.0])          #2x4 \n",
    "d = tf.constant([3.0, 4.0, 1.0,2.0])  "
   ]
  },
  {
   "cell_type": "code",
   "execution_count": null,
   "metadata": {},
   "outputs": [],
   "source": [
    "print(concatenate([c,d],axis=0)[0:4])"
   ]
  },
  {
   "cell_type": "code",
   "execution_count": null,
   "metadata": {},
   "outputs": [],
   "source": [
    "# a = tf.squeeze(tf.constant(np.zeros((None,512)),dtype=tf.float32))\n",
    "a = tf.zeros([None, 4], tf.float32)\n"
   ]
  },
  {
   "cell_type": "code",
   "execution_count": null,
   "metadata": {},
   "outputs": [],
   "source": [
    "a"
   ]
  },
  {
   "cell_type": "code",
   "execution_count": null,
   "metadata": {},
   "outputs": [],
   "source": []
  },
  {
   "cell_type": "code",
   "execution_count": null,
   "metadata": {},
   "outputs": [],
   "source": []
  }
 ],
 "metadata": {
  "kernelspec": {
   "display_name": "Python 3 (ipykernel)",
   "language": "python",
   "name": "python3"
  },
  "language_info": {
   "codemirror_mode": {
    "name": "ipython",
    "version": 3
   },
   "file_extension": ".py",
   "mimetype": "text/x-python",
   "name": "python",
   "nbconvert_exporter": "python",
   "pygments_lexer": "ipython3",
   "version": "3.8.10"
  }
 },
 "nbformat": 4,
 "nbformat_minor": 2
}
