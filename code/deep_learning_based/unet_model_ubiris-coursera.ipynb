{
 "cells": [
  {
   "cell_type": "code",
   "execution_count": 1,
   "metadata": {},
   "outputs": [],
   "source": [
    "import tensorflow as tf \n",
    "from tensorflow import keras\n",
    "from tensorflow.keras.preprocessing.image import ImageDataGenerator\n",
    "from tensorflow.keras.models import Model\n",
    "from tensorflow.keras.layers import Input,concatenate, Dropout, Dense, Activation, ZeroPadding2D, BatchNormalization, Flatten,Conv2D, Convolution2D, Reshape\n",
    "from tensorflow.keras.layers import AveragePooling2D, MaxPooling2D, Dropout, GlobalMaxPooling2D, GlobalAveragePooling2D,Conv2DTranspose\n",
    "from tensorflow.keras.models import Model"
   ]
  },
  {
   "cell_type": "code",
   "execution_count": 2,
   "metadata": {},
   "outputs": [],
   "source": [
    "import cv2 \n",
    "import glob \n",
    "import os \n",
    "import numpy as np"
   ]
  },
  {
   "cell_type": "code",
   "execution_count": 3,
   "metadata": {},
   "outputs": [],
   "source": [
    "NO_OF_TRAINING_IMAGES = len(os.listdir('/tensorflow/UBIRS_segnet_data/img_train/'))\n",
    "NO_OF_VAL_IMAGES = len(os.listdir('/tensorflow/UBIRS_segnet_data/img_test'))\n"
   ]
  },
  {
   "cell_type": "code",
   "execution_count": 4,
   "metadata": {},
   "outputs": [],
   "source": [
    "train_in_images_path = '/tensorflow/UBIRS_segnet_data/img_train/'\n",
    "train_in_labels_path  = '/tensorflow/UBIRS_segnet_data/masks_train/'\n",
    "test_in_images_path = '/tensorflow/UBIRS_segnet_data/img_test/'\n",
    "test_in_labels_path = '/tensorflow/UBIRS_segnet_data/masks_test/'"
   ]
  },
  {
   "cell_type": "code",
   "execution_count": 5,
   "metadata": {},
   "outputs": [],
   "source": [
    "def load_img_data_tensor(path,h,w,c):\n",
    "    N = len(os.listdir(path))\n",
    "    data_out= np.zeros((N,h,w,c),'float')\n",
    "    \n",
    "    for i in range(0,N):\n",
    "        \n",
    "        img_name = os.listdir(path)[i]\n",
    "        \n",
    "        img = cv2.imread(path + img_name)\n",
    "        img = cv2.resize(img,(256,256))\n",
    "        if(c >1):\n",
    "            \n",
    "            img_rgb = cv2.cvtColor(img,cv2.COLOR_BGR2RGB)\n",
    "            data_out[i] = img_rgb\n",
    "        else:\n",
    "            \n",
    "            img_gray = cv2.cvtColor(img,cv2.COLOR_BGR2GRAY)\n",
    "            \n",
    "            data_out[i] = np.expand_dims(img_gray, axis=2)\n",
    "        \n",
    "        #print (i)\n",
    "    return data_out   \n",
    "    "
   ]
  },
  {
   "cell_type": "code",
   "execution_count": 6,
   "metadata": {},
   "outputs": [],
   "source": [
    "\n",
    "img_height = 256\n",
    "img_width = 256\n",
    "\n",
    "train_image_orig = load_img_data_tensor(train_in_images_path,img_height,img_width,3)\n",
    "train_mask_orig = load_img_data_tensor(train_in_labels_path,img_height,img_width,1)\n",
    "val_image_orig = load_img_data_tensor(test_in_images_path,img_height,img_width,3)\n",
    "val_mask_orig = load_img_data_tensor(test_in_labels_path,img_height,img_width,1)"
   ]
  },
  {
   "cell_type": "code",
   "execution_count": 7,
   "metadata": {},
   "outputs": [
    {
     "name": "stdout",
     "output_type": "stream",
     "text": [
      "number of training examples = 2100\n",
      "number of test examples = 150\n",
      "X_train shape: (2100, 256, 256, 3)\n",
      "Y_train shape: (2100, 256, 256, 1)\n",
      "X_test shape: (150, 256, 256, 3)\n",
      "Y_test shape: (150, 256, 256, 1)\n"
     ]
    }
   ],
   "source": [
    "X_train = train_image_orig/255.\n",
    "X_test = val_image_orig/255.\n",
    "Y_train = train_mask_orig/255.\n",
    "Y_test = val_mask_orig/255.\n",
    "print (\"number of training examples = \" + str(X_train.shape[0]))\n",
    "print (\"number of test examples = \" + str(X_test.shape[0]))\n",
    "print (\"X_train shape: \" + str(X_train.shape))\n",
    "print (\"Y_train shape: \" + str(Y_train.shape))\n",
    "print (\"X_test shape: \" + str(X_test.shape))\n",
    "print (\"Y_test shape: \" + str(Y_test.shape))"
   ]
  },
  {
   "cell_type": "code",
   "execution_count": 8,
   "metadata": {},
   "outputs": [
    {
     "data": {
      "text/plain": [
       "dtype('float64')"
      ]
     },
     "execution_count": 8,
     "metadata": {},
     "output_type": "execute_result"
    }
   ],
   "source": [
    "X_test.dtype"
   ]
  },
  {
   "cell_type": "code",
   "execution_count": 9,
   "metadata": {},
   "outputs": [],
   "source": [
    "def conv2d_block(input_tensor, n_filters, kernel_size = 3):\n",
    "    '''\n",
    "    Adds 2 convolutional layers with the parameters passed to it\n",
    "\n",
    "    Args:\n",
    "    input_tensor (tensor) -- the input tensor\n",
    "    n_filters (int) -- number of filters\n",
    "    kernel_size (int) -- kernel size for the convolution\n",
    "\n",
    "    Returns:\n",
    "    tensor of output features\n",
    "    '''\n",
    "  # first layer\n",
    "    x = input_tensor\n",
    "    for i in range(2):\n",
    "        x = tf.keras.layers.Conv2D(filters = n_filters, kernel_size = (kernel_size, kernel_size),\\\n",
    "                kernel_initializer = 'he_normal', padding = 'same')(x)\n",
    "        x = tf.keras.layers.Activation('relu')(x)\n",
    "\n",
    "    return x\n",
    "\n",
    "\n",
    "def encoder_block(inputs, n_filters=64, pool_size=(2,2), dropout=0.3):\n",
    "    '''\n",
    "    Adds two convolutional blocks and then perform down sampling on output of convolutions.\n",
    "\n",
    "    Args:\n",
    "    input_tensor (tensor) -- the input tensor\n",
    "    n_filters (int) -- number of filters\n",
    "    kernel_size (int) -- kernel size for the convolution\n",
    "\n",
    "    Returns:\n",
    "    f - the output features of the convolution block \n",
    "    p - the maxpooled features with dropout\n",
    "    '''\n",
    "\n",
    "    f = conv2d_block(inputs, n_filters=n_filters)\n",
    "    p = tf.keras.layers.MaxPooling2D(pool_size=(2,2))(f)\n",
    "    p = tf.keras.layers.Dropout(0.3)(p)\n",
    "\n",
    "    return f, p\n"
   ]
  },
  {
   "cell_type": "code",
   "execution_count": 10,
   "metadata": {},
   "outputs": [],
   "source": [
    "\n",
    "def encoder(inputs):\n",
    "    '''\n",
    "    This function defines the encoder or downsampling path.\n",
    "\n",
    "    Args:\n",
    "    inputs (tensor) -- batch of input images\n",
    "\n",
    "    Returns:\n",
    "    p4 - the output maxpooled features of the last encoder block\n",
    "    (f1, f2, f3, f4) - the output features of all the encoder blocks\n",
    "    '''\n",
    "    f1, p1 = encoder_block(inputs, n_filters=64, pool_size=(2,2), dropout=0.3)\n",
    "    f2, p2 = encoder_block(p1, n_filters=128, pool_size=(2,2), dropout=0.3)\n",
    "    f3, p3 = encoder_block(p2, n_filters=256, pool_size=(2,2), dropout=0.3)\n",
    "    f4, p4 = encoder_block(p3, n_filters=512, pool_size=(2,2), dropout=0.3)\n",
    "\n",
    "    return p4, (f1, f2, f3, f4)"
   ]
  },
  {
   "cell_type": "code",
   "execution_count": 11,
   "metadata": {},
   "outputs": [],
   "source": [
    "def bottleneck(inputs):\n",
    "    '''\n",
    "    This function defines the bottleneck convolutions to extract more features before the upsampling layers.\n",
    "    '''\n",
    "\n",
    "    bottle_neck = conv2d_block(inputs, n_filters=1024)\n",
    "\n",
    "    return bottle_neck"
   ]
  },
  {
   "cell_type": "code",
   "execution_count": 12,
   "metadata": {},
   "outputs": [],
   "source": [
    "def decoder_block(inputs, conv_output, n_filters=64, kernel_size=3, strides=3, dropout=0.3):\n",
    "    '''\n",
    "    defines the one decoder block of the UNet\n",
    "\n",
    "    Args:\n",
    "    inputs (tensor) -- batch of input features\n",
    "    conv_output (tensor) -- features from an encoder block\n",
    "    n_filters (int) -- number of filters\n",
    "    kernel_size (int) -- kernel size\n",
    "    strides (int) -- strides for the deconvolution/upsampling\n",
    "    padding (string) -- \"same\" or \"valid\", tells if shape will be preserved by zero padding\n",
    "\n",
    "    Returns:\n",
    "    c (tensor) -- output features of the decoder block\n",
    "    '''\n",
    "    u = tf.keras.layers.Conv2DTranspose(n_filters, kernel_size, strides = strides, padding = 'same')(inputs)\n",
    "    c = tf.keras.layers.concatenate([u, conv_output])\n",
    "    c = tf.keras.layers.Dropout(dropout)(c)\n",
    "    c = conv2d_block(c, n_filters, kernel_size=3)\n",
    "\n",
    "    return c"
   ]
  },
  {
   "cell_type": "code",
   "execution_count": 13,
   "metadata": {},
   "outputs": [],
   "source": [
    "def decoder(inputs, convs, output_channels):\n",
    "    '''\n",
    "    Defines the decoder of the UNet chaining together 4 decoder blocks. \n",
    "\n",
    "    Args:\n",
    "    inputs (tensor) -- batch of input features\n",
    "    convs (tuple) -- features from the encoder blocks\n",
    "    output_channels (int) -- number of classes in the label map\n",
    "\n",
    "    Returns:\n",
    "    outputs (tensor) -- the pixel wise label map of the image\n",
    "    '''\n",
    "\n",
    "    f1, f2, f3, f4 = convs\n",
    "\n",
    "    c6 = decoder_block(inputs, f4, n_filters=512, kernel_size=(3,3), strides=(2,2), dropout=0.3)\n",
    "    c7 = decoder_block(c6, f3, n_filters=256, kernel_size=(3,3), strides=(2,2), dropout=0.3)\n",
    "    c8 = decoder_block(c7, f2, n_filters=128, kernel_size=(3,3), strides=(2,2), dropout=0.3)\n",
    "    c9 = decoder_block(c8, f1, n_filters=64, kernel_size=(3,3), strides=(2,2), dropout=0.3)\n",
    "\n",
    "    outputs = tf.keras.layers.Conv2D(output_channels, (1, 1), activation='sigmoid')(c9)\n",
    "\n",
    "    return outputs"
   ]
  },
  {
   "cell_type": "code",
   "execution_count": 14,
   "metadata": {},
   "outputs": [],
   "source": [
    "OUTPUT_CHANNELS = 1\n",
    "\n",
    "def unet():\n",
    "    '''\n",
    "    Defines the UNet by connecting the encoder, bottleneck and decoder.\n",
    "    '''\n",
    "\n",
    "    # specify the input shape\n",
    "    inputs = tf.keras.layers.Input(shape=(256,256,3))\n",
    "\n",
    "    # feed the inputs to the encoder\n",
    "    encoder_output, convs = encoder(inputs)\n",
    "\n",
    "    # feed the encoder output to the bottleneck\n",
    "    bottle_neck = bottleneck(encoder_output)\n",
    "\n",
    "    # feed the bottleneck and encoder block outputs to the decoder\n",
    "    # specify the number of classes via the `output_channels` argument\n",
    "    outputs = decoder(bottle_neck, convs, output_channels=OUTPUT_CHANNELS)\n",
    "\n",
    "    # create the model\n",
    "    model = tf.keras.Model(inputs=inputs, outputs=outputs)\n",
    "\n",
    "    return model"
   ]
  },
  {
   "cell_type": "code",
   "execution_count": 15,
   "metadata": {},
   "outputs": [
    {
     "name": "stderr",
     "output_type": "stream",
     "text": [
      "2022-02-05 04:43:37.222078: I tensorflow/stream_executor/cuda/cuda_gpu_executor.cc:936] successful NUMA node read from SysFS had negative value (-1), but there must be at least one NUMA node, so returning NUMA node zero\n",
      "2022-02-05 04:43:37.277400: I tensorflow/stream_executor/cuda/cuda_gpu_executor.cc:936] successful NUMA node read from SysFS had negative value (-1), but there must be at least one NUMA node, so returning NUMA node zero\n",
      "2022-02-05 04:43:37.278667: I tensorflow/stream_executor/cuda/cuda_gpu_executor.cc:936] successful NUMA node read from SysFS had negative value (-1), but there must be at least one NUMA node, so returning NUMA node zero\n",
      "2022-02-05 04:43:37.281165: I tensorflow/core/platform/cpu_feature_guard.cc:151] This TensorFlow binary is optimized with oneAPI Deep Neural Network Library (oneDNN) to use the following CPU instructions in performance-critical operations:  AVX2 FMA\n",
      "To enable them in other operations, rebuild TensorFlow with the appropriate compiler flags.\n",
      "2022-02-05 04:43:37.282700: I tensorflow/stream_executor/cuda/cuda_gpu_executor.cc:936] successful NUMA node read from SysFS had negative value (-1), but there must be at least one NUMA node, so returning NUMA node zero\n",
      "2022-02-05 04:43:37.283935: I tensorflow/stream_executor/cuda/cuda_gpu_executor.cc:936] successful NUMA node read from SysFS had negative value (-1), but there must be at least one NUMA node, so returning NUMA node zero\n",
      "2022-02-05 04:43:37.285071: I tensorflow/stream_executor/cuda/cuda_gpu_executor.cc:936] successful NUMA node read from SysFS had negative value (-1), but there must be at least one NUMA node, so returning NUMA node zero\n",
      "2022-02-05 04:43:38.254332: I tensorflow/stream_executor/cuda/cuda_gpu_executor.cc:936] successful NUMA node read from SysFS had negative value (-1), but there must be at least one NUMA node, so returning NUMA node zero\n",
      "2022-02-05 04:43:38.254764: I tensorflow/stream_executor/cuda/cuda_gpu_executor.cc:936] successful NUMA node read from SysFS had negative value (-1), but there must be at least one NUMA node, so returning NUMA node zero\n",
      "2022-02-05 04:43:38.255161: I tensorflow/stream_executor/cuda/cuda_gpu_executor.cc:936] successful NUMA node read from SysFS had negative value (-1), but there must be at least one NUMA node, so returning NUMA node zero\n",
      "2022-02-05 04:43:38.255606: I tensorflow/core/common_runtime/gpu/gpu_device.cc:1525] Created device /job:localhost/replica:0/task:0/device:GPU:0 with 5111 MB memory:  -> device: 0, name: GeForce GTX 1060 6GB, pci bus id: 0000:01:00.0, compute capability: 6.1\n"
     ]
    },
    {
     "name": "stdout",
     "output_type": "stream",
     "text": [
      "Model: \"model\"\n",
      "__________________________________________________________________________________________________\n",
      " Layer (type)                   Output Shape         Param #     Connected to                     \n",
      "==================================================================================================\n",
      " input_1 (InputLayer)           [(None, 256, 256, 3  0           []                               \n",
      "                                )]                                                                \n",
      "                                                                                                  \n",
      " conv2d (Conv2D)                (None, 256, 256, 64  1792        ['input_1[0][0]']                \n",
      "                                )                                                                 \n",
      "                                                                                                  \n",
      " activation (Activation)        (None, 256, 256, 64  0           ['conv2d[0][0]']                 \n",
      "                                )                                                                 \n",
      "                                                                                                  \n",
      " conv2d_1 (Conv2D)              (None, 256, 256, 64  36928       ['activation[0][0]']             \n",
      "                                )                                                                 \n",
      "                                                                                                  \n",
      " activation_1 (Activation)      (None, 256, 256, 64  0           ['conv2d_1[0][0]']               \n",
      "                                )                                                                 \n",
      "                                                                                                  \n",
      " max_pooling2d (MaxPooling2D)   (None, 128, 128, 64  0           ['activation_1[0][0]']           \n",
      "                                )                                                                 \n",
      "                                                                                                  \n",
      " dropout (Dropout)              (None, 128, 128, 64  0           ['max_pooling2d[0][0]']          \n",
      "                                )                                                                 \n",
      "                                                                                                  \n",
      " conv2d_2 (Conv2D)              (None, 128, 128, 12  73856       ['dropout[0][0]']                \n",
      "                                8)                                                                \n",
      "                                                                                                  \n",
      " activation_2 (Activation)      (None, 128, 128, 12  0           ['conv2d_2[0][0]']               \n",
      "                                8)                                                                \n",
      "                                                                                                  \n",
      " conv2d_3 (Conv2D)              (None, 128, 128, 12  147584      ['activation_2[0][0]']           \n",
      "                                8)                                                                \n",
      "                                                                                                  \n",
      " activation_3 (Activation)      (None, 128, 128, 12  0           ['conv2d_3[0][0]']               \n",
      "                                8)                                                                \n",
      "                                                                                                  \n",
      " max_pooling2d_1 (MaxPooling2D)  (None, 64, 64, 128)  0          ['activation_3[0][0]']           \n",
      "                                                                                                  \n",
      " dropout_1 (Dropout)            (None, 64, 64, 128)  0           ['max_pooling2d_1[0][0]']        \n",
      "                                                                                                  \n",
      " conv2d_4 (Conv2D)              (None, 64, 64, 256)  295168      ['dropout_1[0][0]']              \n",
      "                                                                                                  \n",
      " activation_4 (Activation)      (None, 64, 64, 256)  0           ['conv2d_4[0][0]']               \n",
      "                                                                                                  \n",
      " conv2d_5 (Conv2D)              (None, 64, 64, 256)  590080      ['activation_4[0][0]']           \n",
      "                                                                                                  \n",
      " activation_5 (Activation)      (None, 64, 64, 256)  0           ['conv2d_5[0][0]']               \n",
      "                                                                                                  \n",
      " max_pooling2d_2 (MaxPooling2D)  (None, 32, 32, 256)  0          ['activation_5[0][0]']           \n",
      "                                                                                                  \n",
      " dropout_2 (Dropout)            (None, 32, 32, 256)  0           ['max_pooling2d_2[0][0]']        \n",
      "                                                                                                  \n",
      " conv2d_6 (Conv2D)              (None, 32, 32, 512)  1180160     ['dropout_2[0][0]']              \n",
      "                                                                                                  \n",
      " activation_6 (Activation)      (None, 32, 32, 512)  0           ['conv2d_6[0][0]']               \n",
      "                                                                                                  \n",
      " conv2d_7 (Conv2D)              (None, 32, 32, 512)  2359808     ['activation_6[0][0]']           \n",
      "                                                                                                  \n",
      " activation_7 (Activation)      (None, 32, 32, 512)  0           ['conv2d_7[0][0]']               \n",
      "                                                                                                  \n",
      " max_pooling2d_3 (MaxPooling2D)  (None, 16, 16, 512)  0          ['activation_7[0][0]']           \n",
      "                                                                                                  \n",
      " dropout_3 (Dropout)            (None, 16, 16, 512)  0           ['max_pooling2d_3[0][0]']        \n",
      "                                                                                                  \n",
      " conv2d_8 (Conv2D)              (None, 16, 16, 1024  4719616     ['dropout_3[0][0]']              \n",
      "                                )                                                                 \n",
      "                                                                                                  \n",
      " activation_8 (Activation)      (None, 16, 16, 1024  0           ['conv2d_8[0][0]']               \n",
      "                                )                                                                 \n",
      "                                                                                                  \n",
      " conv2d_9 (Conv2D)              (None, 16, 16, 1024  9438208     ['activation_8[0][0]']           \n",
      "                                )                                                                 \n",
      "                                                                                                  \n",
      " activation_9 (Activation)      (None, 16, 16, 1024  0           ['conv2d_9[0][0]']               \n",
      "                                )                                                                 \n",
      "                                                                                                  \n",
      " conv2d_transpose (Conv2DTransp  (None, 32, 32, 512)  4719104    ['activation_9[0][0]']           \n",
      " ose)                                                                                             \n",
      "                                                                                                  \n",
      " concatenate (Concatenate)      (None, 32, 32, 1024  0           ['conv2d_transpose[0][0]',       \n",
      "                                )                                 'activation_7[0][0]']           \n",
      "                                                                                                  \n",
      " dropout_4 (Dropout)            (None, 32, 32, 1024  0           ['concatenate[0][0]']            \n"
     ]
    },
    {
     "name": "stdout",
     "output_type": "stream",
     "text": [
      "                                )                                                                 \n",
      "                                                                                                  \n",
      " conv2d_10 (Conv2D)             (None, 32, 32, 512)  4719104     ['dropout_4[0][0]']              \n",
      "                                                                                                  \n",
      " activation_10 (Activation)     (None, 32, 32, 512)  0           ['conv2d_10[0][0]']              \n",
      "                                                                                                  \n",
      " conv2d_11 (Conv2D)             (None, 32, 32, 512)  2359808     ['activation_10[0][0]']          \n",
      "                                                                                                  \n",
      " activation_11 (Activation)     (None, 32, 32, 512)  0           ['conv2d_11[0][0]']              \n",
      "                                                                                                  \n",
      " conv2d_transpose_1 (Conv2DTran  (None, 64, 64, 256)  1179904    ['activation_11[0][0]']          \n",
      " spose)                                                                                           \n",
      "                                                                                                  \n",
      " concatenate_1 (Concatenate)    (None, 64, 64, 512)  0           ['conv2d_transpose_1[0][0]',     \n",
      "                                                                  'activation_5[0][0]']           \n",
      "                                                                                                  \n",
      " dropout_5 (Dropout)            (None, 64, 64, 512)  0           ['concatenate_1[0][0]']          \n",
      "                                                                                                  \n",
      " conv2d_12 (Conv2D)             (None, 64, 64, 256)  1179904     ['dropout_5[0][0]']              \n",
      "                                                                                                  \n",
      " activation_12 (Activation)     (None, 64, 64, 256)  0           ['conv2d_12[0][0]']              \n",
      "                                                                                                  \n",
      " conv2d_13 (Conv2D)             (None, 64, 64, 256)  590080      ['activation_12[0][0]']          \n",
      "                                                                                                  \n",
      " activation_13 (Activation)     (None, 64, 64, 256)  0           ['conv2d_13[0][0]']              \n",
      "                                                                                                  \n",
      " conv2d_transpose_2 (Conv2DTran  (None, 128, 128, 12  295040     ['activation_13[0][0]']          \n",
      " spose)                         8)                                                                \n",
      "                                                                                                  \n",
      " concatenate_2 (Concatenate)    (None, 128, 128, 25  0           ['conv2d_transpose_2[0][0]',     \n",
      "                                6)                                'activation_3[0][0]']           \n",
      "                                                                                                  \n",
      " dropout_6 (Dropout)            (None, 128, 128, 25  0           ['concatenate_2[0][0]']          \n",
      "                                6)                                                                \n",
      "                                                                                                  \n",
      " conv2d_14 (Conv2D)             (None, 128, 128, 12  295040      ['dropout_6[0][0]']              \n",
      "                                8)                                                                \n",
      "                                                                                                  \n",
      " activation_14 (Activation)     (None, 128, 128, 12  0           ['conv2d_14[0][0]']              \n",
      "                                8)                                                                \n",
      "                                                                                                  \n",
      " conv2d_15 (Conv2D)             (None, 128, 128, 12  147584      ['activation_14[0][0]']          \n",
      "                                8)                                                                \n",
      "                                                                                                  \n",
      " activation_15 (Activation)     (None, 128, 128, 12  0           ['conv2d_15[0][0]']              \n",
      "                                8)                                                                \n",
      "                                                                                                  \n",
      " conv2d_transpose_3 (Conv2DTran  (None, 256, 256, 64  73792      ['activation_15[0][0]']          \n",
      " spose)                         )                                                                 \n",
      "                                                                                                  \n",
      " concatenate_3 (Concatenate)    (None, 256, 256, 12  0           ['conv2d_transpose_3[0][0]',     \n",
      "                                8)                                'activation_1[0][0]']           \n",
      "                                                                                                  \n",
      " dropout_7 (Dropout)            (None, 256, 256, 12  0           ['concatenate_3[0][0]']          \n",
      "                                8)                                                                \n",
      "                                                                                                  \n",
      " conv2d_16 (Conv2D)             (None, 256, 256, 64  73792       ['dropout_7[0][0]']              \n",
      "                                )                                                                 \n",
      "                                                                                                  \n",
      " activation_16 (Activation)     (None, 256, 256, 64  0           ['conv2d_16[0][0]']              \n",
      "                                )                                                                 \n",
      "                                                                                                  \n",
      " conv2d_17 (Conv2D)             (None, 256, 256, 64  36928       ['activation_16[0][0]']          \n",
      "                                )                                                                 \n",
      "                                                                                                  \n",
      " activation_17 (Activation)     (None, 256, 256, 64  0           ['conv2d_17[0][0]']              \n",
      "                                )                                                                 \n",
      "                                                                                                  \n",
      " conv2d_18 (Conv2D)             (None, 256, 256, 1)  65          ['activation_17[0][0]']          \n",
      "                                                                                                  \n",
      "==================================================================================================\n",
      "Total params: 34,513,345\n",
      "Trainable params: 34,513,345\n",
      "Non-trainable params: 0\n",
      "__________________________________________________________________________________________________\n"
     ]
    }
   ],
   "source": [
    "unetmodel = unet()\n",
    "\n",
    "# see the resulting model architecture\n",
    "unetmodel.summary()"
   ]
  },
  {
   "cell_type": "code",
   "execution_count": null,
   "metadata": {},
   "outputs": [],
   "source": []
  },
  {
   "cell_type": "code",
   "execution_count": null,
   "metadata": {},
   "outputs": [],
   "source": [
    "\n",
    "    \n",
    "    "
   ]
  },
  {
   "cell_type": "code",
   "execution_count": 16,
   "metadata": {},
   "outputs": [],
   "source": [
    "#unetmodel = Unet_model((256,256,3))\n",
    "optimizer = tf.keras.optimizers.Adam()"
   ]
  },
  {
   "cell_type": "code",
   "execution_count": 17,
   "metadata": {},
   "outputs": [],
   "source": [
    "unetmodel.compile(loss='binary_crossentropy', optimizer=optimizer, metrics = [\"accuracy\"])"
   ]
  },
  {
   "cell_type": "code",
   "execution_count": null,
   "metadata": {},
   "outputs": [
    {
     "name": "stderr",
     "output_type": "stream",
     "text": [
      "2022-02-05 04:43:39.106077: W tensorflow/core/framework/cpu_allocator_impl.cc:82] Allocation of 1651507200 exceeds 10% of free system memory.\n",
      "2022-02-05 04:43:40.173250: W tensorflow/core/framework/cpu_allocator_impl.cc:82] Allocation of 550502400 exceeds 10% of free system memory.\n",
      "2022-02-05 04:43:40.516699: W tensorflow/core/framework/cpu_allocator_impl.cc:82] Allocation of 1651507200 exceeds 10% of free system memory.\n",
      "2022-02-05 04:43:41.256708: W tensorflow/core/framework/cpu_allocator_impl.cc:82] Allocation of 550502400 exceeds 10% of free system memory.\n"
     ]
    },
    {
     "name": "stdout",
     "output_type": "stream",
     "text": [
      "Epoch 1/50\n"
     ]
    },
    {
     "name": "stderr",
     "output_type": "stream",
     "text": [
      "2022-02-05 04:43:43.518769: I tensorflow/stream_executor/cuda/cuda_dnn.cc:368] Loaded cuDNN version 8100\n",
      "2022-02-05 04:43:45.905621: W tensorflow/core/common_runtime/bfc_allocator.cc:275] Allocator (GPU_0_bfc) ran out of memory trying to allocate 2.17GiB with freed_by_count=0. The caller indicates that this is not a failure, but may mean that there could be performance gains if more memory were available.\n",
      "2022-02-05 04:43:46.314710: W tensorflow/core/common_runtime/bfc_allocator.cc:275] Allocator (GPU_0_bfc) ran out of memory trying to allocate 2.19GiB with freed_by_count=0. The caller indicates that this is not a failure, but may mean that there could be performance gains if more memory were available.\n",
      "2022-02-05 04:43:46.373469: W tensorflow/core/common_runtime/bfc_allocator.cc:275] Allocator (GPU_0_bfc) ran out of memory trying to allocate 2.19GiB with freed_by_count=0. The caller indicates that this is not a failure, but may mean that there could be performance gains if more memory were available.\n",
      "2022-02-05 04:43:46.914469: W tensorflow/core/common_runtime/bfc_allocator.cc:275] Allocator (GPU_0_bfc) ran out of memory trying to allocate 1.70GiB with freed_by_count=0. The caller indicates that this is not a failure, but may mean that there could be performance gains if more memory were available.\n",
      "2022-02-05 04:43:47.254521: W tensorflow/core/common_runtime/bfc_allocator.cc:275] Allocator (GPU_0_bfc) ran out of memory trying to allocate 1.70GiB with freed_by_count=0. The caller indicates that this is not a failure, but may mean that there could be performance gains if more memory were available.\n",
      "2022-02-05 04:43:48.179043: W tensorflow/core/common_runtime/bfc_allocator.cc:275] Allocator (GPU_0_bfc) ran out of memory trying to allocate 2.19GiB with freed_by_count=0. The caller indicates that this is not a failure, but may mean that there could be performance gains if more memory were available.\n",
      "2022-02-05 04:43:48.265533: W tensorflow/core/common_runtime/bfc_allocator.cc:275] Allocator (GPU_0_bfc) ran out of memory trying to allocate 2.19GiB with freed_by_count=0. The caller indicates that this is not a failure, but may mean that there could be performance gains if more memory were available.\n",
      "2022-02-05 04:43:48.383492: W tensorflow/core/common_runtime/bfc_allocator.cc:275] Allocator (GPU_0_bfc) ran out of memory trying to allocate 2.17GiB with freed_by_count=0. The caller indicates that this is not a failure, but may mean that there could be performance gains if more memory were available.\n"
     ]
    },
    {
     "name": "stdout",
     "output_type": "stream",
     "text": [
      "525/525 [==============================] - 197s 363ms/step - loss: 2.4330 - accuracy: 0.9274\n",
      "Epoch 2/50\n",
      "525/525 [==============================] - 193s 368ms/step - loss: 0.1569 - accuracy: 0.9283\n",
      "Epoch 3/50\n",
      "525/525 [==============================] - 193s 368ms/step - loss: 0.1485 - accuracy: 0.9320\n",
      "Epoch 4/50\n",
      "525/525 [==============================] - 193s 368ms/step - loss: 0.1472 - accuracy: 0.9335\n",
      "Epoch 5/50\n",
      "525/525 [==============================] - 194s 369ms/step - loss: 0.1680 - accuracy: 0.9315\n",
      "Epoch 6/50\n",
      "525/525 [==============================] - 194s 369ms/step - loss: 0.1892 - accuracy: 0.9285\n",
      "Epoch 7/50\n",
      "525/525 [==============================] - 194s 370ms/step - loss: 0.1750 - accuracy: 0.9303\n",
      "Epoch 8/50\n",
      "525/525 [==============================] - 195s 370ms/step - loss: 0.1705 - accuracy: 0.9308\n",
      "Epoch 9/50\n",
      "525/525 [==============================] - 195s 371ms/step - loss: 0.1681 - accuracy: 0.9310\n",
      "Epoch 10/50\n",
      "525/525 [==============================] - 195s 370ms/step - loss: 0.1665 - accuracy: 0.9312\n",
      "Epoch 11/50\n",
      "525/525 [==============================] - 195s 371ms/step - loss: 0.1661 - accuracy: 0.9315\n",
      "Epoch 12/50\n",
      "424/525 [=======================>......] - ETA: 37s - loss: 0.1644 - accuracy: 0.9320"
     ]
    }
   ],
   "source": [
    "unetmodel.fit(x = X_train, y = Y_train, epochs = 50, batch_size = 4)"
   ]
  },
  {
   "cell_type": "code",
   "execution_count": null,
   "metadata": {},
   "outputs": [],
   "source": [
    "model_save_path = '/tensorflow/unet_model_UBIRIS_1.h5'\n",
    "\n",
    "unetmodel.save(model_save_path)"
   ]
  },
  {
   "cell_type": "code",
   "execution_count": null,
   "metadata": {},
   "outputs": [],
   "source": []
  },
  {
   "cell_type": "code",
   "execution_count": null,
   "metadata": {},
   "outputs": [],
   "source": [
    "X_test[0:1].shape"
   ]
  },
  {
   "cell_type": "code",
   "execution_count": null,
   "metadata": {},
   "outputs": [],
   "source": [
    "preds = unetmodel.predict(X_test[0:1])"
   ]
  },
  {
   "cell_type": "code",
   "execution_count": null,
   "metadata": {},
   "outputs": [],
   "source": [
    "preds.shape"
   ]
  },
  {
   "cell_type": "code",
   "execution_count": null,
   "metadata": {},
   "outputs": [],
   "source": [
    "import matplotlib.pyplot as plt"
   ]
  },
  {
   "cell_type": "code",
   "execution_count": null,
   "metadata": {},
   "outputs": [],
   "source": [
    "out_image = np.squeeze(preds)\n"
   ]
  },
  {
   "cell_type": "code",
   "execution_count": null,
   "metadata": {},
   "outputs": [],
   "source": [
    "plt.imshow(out_image,cmap='gray')\n",
    "plt.show()"
   ]
  },
  {
   "cell_type": "code",
   "execution_count": null,
   "metadata": {},
   "outputs": [],
   "source": [
    "fig=plt.figure(figsize=(8, 8))\n",
    "columns = 1\n",
    "rows = 2\n",
    "fig.add_subplot(rows, columns, 1)\n",
    "plt.axis(\"off\")\n",
    "plt.title(\"input test image\")\n",
    "plt.imshow(X_test[0])\n",
    "fig.add_subplot(rows, columns, 2)\n",
    "plt.axis(\"off\")\n",
    "plt.title(\"inference_image\")\n",
    "plt.imshow(out_image,cmap='gray')"
   ]
  },
  {
   "cell_type": "code",
   "execution_count": null,
   "metadata": {},
   "outputs": [],
   "source": [
    "print(unetmodel.metrics_names)"
   ]
  },
  {
   "cell_type": "code",
   "execution_count": null,
   "metadata": {},
   "outputs": [],
   "source": [
    "scores_train = unetmodel.evaluate(X_train, Y_train, verbose=0)"
   ]
  },
  {
   "cell_type": "code",
   "execution_count": null,
   "metadata": {},
   "outputs": [],
   "source": [
    "print('train_accuracy ='  ,scores_train[1])"
   ]
  },
  {
   "cell_type": "code",
   "execution_count": null,
   "metadata": {},
   "outputs": [],
   "source": [
    "scores_test = unetmodel.evaluate(X_test, Y_test, verbose=0)"
   ]
  },
  {
   "cell_type": "code",
   "execution_count": null,
   "metadata": {},
   "outputs": [],
   "source": [
    "print('test_accuracy ='  ,scores_test[1])"
   ]
  },
  {
   "cell_type": "code",
   "execution_count": null,
   "metadata": {},
   "outputs": [],
   "source": []
  }
 ],
 "metadata": {
  "kernelspec": {
   "display_name": "Python 3 (ipykernel)",
   "language": "python",
   "name": "python3"
  },
  "language_info": {
   "codemirror_mode": {
    "name": "ipython",
    "version": 3
   },
   "file_extension": ".py",
   "mimetype": "text/x-python",
   "name": "python",
   "nbconvert_exporter": "python",
   "pygments_lexer": "ipython3",
   "version": "3.8.10"
  }
 },
 "nbformat": 4,
 "nbformat_minor": 2
}
