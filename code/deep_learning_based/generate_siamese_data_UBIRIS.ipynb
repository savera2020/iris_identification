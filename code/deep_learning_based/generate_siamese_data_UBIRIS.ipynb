{
 "cells": [
  {
   "cell_type": "code",
   "execution_count": 1,
   "id": "d57c1a13",
   "metadata": {},
   "outputs": [],
   "source": [
    "import cv2\n",
    "import glob\n",
    "import os\n",
    "import shutil\n",
    "import numpy as np\n",
    "\n",
    "#shutil.copyfile(src, dst)"
   ]
  },
  {
   "cell_type": "code",
   "execution_count": 2,
   "id": "30c9206b",
   "metadata": {},
   "outputs": [],
   "source": [
    "path_in_image = '/tensorflow/UBIRS_segnet_data/UNIRIS_siamese/images/'\n",
    "path_out_image = '/tensorflow/UBIRS_segnet_data/UNIRIS_siamese/images_siamese/'\n",
    "\n",
    "path_in_mask = '/tensorflow/UBIRS_segnet_data/UNIRIS_siamese/mask/'\n",
    "path_out_mask = '/tensorflow/UBIRS_segnet_data/UNIRIS_siamese/mask_siamese/'"
   ]
  },
  {
   "cell_type": "code",
   "execution_count": 3,
   "id": "923deaf0",
   "metadata": {},
   "outputs": [],
   "source": [
    "images_path = np.sort(glob.glob(path_in_image +'*png'))"
   ]
  },
  {
   "cell_type": "code",
   "execution_count": 4,
   "id": "bc5aa7e6",
   "metadata": {},
   "outputs": [
    {
     "name": "stdout",
     "output_type": "stream",
     "text": [
      "/tensorflow/UBIRS_segnet_data/UNIRIS_siamese/images/frame_C100_S1_I10.png\n"
     ]
    }
   ],
   "source": [
    "print(images_path[1])"
   ]
  },
  {
   "cell_type": "code",
   "execution_count": 5,
   "id": "8f4bed89",
   "metadata": {},
   "outputs": [],
   "source": [
    "subject = \"\"\n",
    "\n",
    "count = '0'\n",
    "\n",
    "\n",
    "for image_path in images_path:\n",
    "    \n",
    "    image_name  = image_path.split('/')[-1]\n",
    "    \n",
    "    temp = image_name.split('_')[1]\n",
    "    \n",
    "    if(not subject==temp):\n",
    "        \n",
    "        name_count = '0'\n",
    "        os.mkdir(path_out_image + count.zfill(3))\n",
    "        os.mkdir(path_out_mask + count.zfill(3))\n",
    "        \n",
    "        save_path_image = path_out_image + count.zfill(3) + '/'\n",
    "        \n",
    "        save_path_mask = path_out_mask + count.zfill(3) + '/'\n",
    "        \n",
    "        shutil.copyfile(image_path, save_path_image+'/'+ name_count.zfill(2)+'.png')\n",
    "        \n",
    "        shutil.copyfile(path_in_mask +'/'+ image_name, save_path_mask +'/'+name_count.zfill(2)+'.png')\n",
    "        \n",
    "        count = str(int(count)+1)\n",
    "        subject = temp\n",
    "    else:\n",
    "        name_count = str(int(name_count)+1)\n",
    "        shutil.copyfile(image_path, save_path_image + '/' + name_count.zfill(2) + '.png')\n",
    "        shutil.copyfile(path_in_mask +'/' + image_name, save_path_mask + '/' + name_count.zfill(2)+'.png')\n",
    "        \n",
    "    \n",
    "    \n",
    "    \n",
    "    \n",
    "    "
   ]
  },
  {
   "cell_type": "code",
   "execution_count": null,
   "id": "bcf9a9f9",
   "metadata": {},
   "outputs": [],
   "source": []
  },
  {
   "cell_type": "code",
   "execution_count": 7,
   "id": "fa5c9083",
   "metadata": {},
   "outputs": [],
   "source": [
    "# subject = \"\"\n",
    "\n",
    "# count = '0'\n",
    "\n",
    "\n",
    "# for image_path in images_path:\n",
    "    \n",
    "#     image_name  = image_path.split('/')[-1]\n",
    "    \n",
    "#     temp = image_name.split('_')[1]\n",
    "    \n",
    "#     if(not subject==temp):\n",
    "        \n",
    "#         os.mkdir(path_out + count.zfill(3))\n",
    "        \n",
    "#         save_path = path_out + count.zfill(3) + '/'\n",
    "        \n",
    "#         shutil.copyfile(image_path, save_path+image_name)\n",
    "        \n",
    "#         count = str(int(count)+1)\n",
    "#         subject = temp\n",
    "#     else:\n",
    "        \n",
    "#         shutil.copyfile(image_path, save_path+image_name)"
   ]
  },
  {
   "cell_type": "code",
   "execution_count": null,
   "id": "9550170b",
   "metadata": {},
   "outputs": [],
   "source": []
  }
 ],
 "metadata": {
  "kernelspec": {
   "display_name": "Python 3 (ipykernel)",
   "language": "python",
   "name": "python3"
  },
  "language_info": {
   "codemirror_mode": {
    "name": "ipython",
    "version": 3
   },
   "file_extension": ".py",
   "mimetype": "text/x-python",
   "name": "python",
   "nbconvert_exporter": "python",
   "pygments_lexer": "ipython3",
   "version": "3.8.10"
  }
 },
 "nbformat": 4,
 "nbformat_minor": 5
}
