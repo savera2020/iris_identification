{
 "cells": [
  {
   "cell_type": "code",
   "execution_count": 36,
   "metadata": {},
   "outputs": [],
   "source": [
    "import cv2 \n",
    "import numpy as np\n",
    "import glob\n",
    "import os\n",
    "from itertools import combinations \n",
    "from itertools import product\n",
    "import random\n",
    "import matplotlib.pyplot as plt"
   ]
  },
  {
   "cell_type": "code",
   "execution_count": 70,
   "metadata": {},
   "outputs": [],
   "source": [
    "import keras \n",
    "from keras.layers import Dense, MaxPooling2D, Convolution2D, Dropout, Input, Flatten, Subtract, merge,Conv2D,Lambda\n",
    "from keras.layers.normalization import BatchNormalization\n",
    "from keras import backend as K\n",
    "from keras.models import Model,Sequential\n",
    "#from keras.initializers.h as \n",
    "\n",
    "from keras.regularizers import l2 "
   ]
  },
  {
   "cell_type": "code",
   "execution_count": 57,
   "metadata": {},
   "outputs": [],
   "source": [
    "path_input_images =  '/tensorflow/IITD Database/'"
   ]
  },
  {
   "cell_type": "code",
   "execution_count": 39,
   "metadata": {},
   "outputs": [],
   "source": [
    "folder_name_list = np.sort(os.listdir(path_input_images))\n",
    "out1= np.zeros((4000,96,96,3),'float')\n",
    "out2= np.zeros((4000,96,96,3),'float')\n",
    "\n",
    "pos_comb1 = np.array(list(combinations([1, 2, 3, 4, 5], 2)))\n",
    "pos_comb2 = np.array(list(combinations([6, 7, 8, 9, 10], 2)))\n",
    "\n",
    "neg_comb1 = np.array(list(product([2,3,4,5], [8,9,10])))\n",
    "\n",
    "count = 0\n",
    "y = []\n",
    "for folder_name in folder_name_list[:100]:\n",
    "    \n",
    "    for i in range (len(pos_comb1)):\n",
    "        \n",
    "        img1_0 = cv2.imread(path_input_images + folder_name + '/'+ str(pos_comb1[i][0]).zfill(2)+'.bmp')\n",
    "        img1_0 = cv2.resize(img1_0,(96,96))\n",
    "        \n",
    "        \n",
    "        img1_1 = cv2.imread(path_input_images + folder_name + '/'+ str(pos_comb1[i][1]).zfill(2)+'.bmp')\n",
    "        img1_1 = cv2.resize(img1_1,(96,96))\n",
    "        out1[count]  = img1_0\n",
    "        out2[count]  = img1_1\n",
    "        count = count+1\n",
    "        y.append(0.0)\n",
    "        \n",
    "        img2_0 = cv2.imread(path_input_images + folder_name + '/'+ str(pos_comb2[i][0]).zfill(2)+'.bmp')\n",
    "        img2_1 = cv2.imread(path_input_images + folder_name + '/'+ str(pos_comb2[i][1]).zfill(2)+'.bmp')\n",
    "        img2_0 = cv2.resize(img2_0,(96,96))\n",
    "        img2_1 = cv2.resize(img2_1,(96,96))\n",
    "        out1[count]  = img2_0\n",
    "        out2[count]  = img2_1\n",
    "        y.append(0.0)\n",
    "        count = count+1\n",
    "        \n",
    "        img3_0 = cv2.imread(path_input_images + folder_name + '/'+ str(neg_comb1[i][0]).zfill(2)+'.bmp')\n",
    "        img3_1 = cv2.imread(path_input_images + folder_name + '/'+ str(neg_comb1[i][1]).zfill(2)+'.bmp') \n",
    "        \n",
    "        img3_0 = cv2.resize(img3_0,(96,96))\n",
    "        img3_1 = cv2.resize(img3_1,(96,96))\n",
    "        out1[count]  = img3_0\n",
    "        out2[count]  = img3_1\n",
    "        y.append(1.0)\n",
    "        count = count+1\n",
    "        \n",
    "        folder_name1 = str(int(folder_name) + 3).zfill(3) \n",
    "        \n",
    "        img4_0 = cv2.imread(path_input_images + folder_name + '/'+ str(pos_comb1[i][0]).zfill(2)+'.bmp')\n",
    "        img4_1 = cv2.imread(path_input_images + folder_name1 + '/'+ str(pos_comb1[i][1]).zfill(2)+'.bmp') \n",
    "        img4_0 = cv2.resize(img4_0,(96,96))\n",
    "        img4_1 = cv2.resize(img4_1,(96,96))\n",
    "        out1[count]  = img4_0\n",
    "        out2[count]  = img4_1\n",
    "        y.append(1.0)\n",
    "        count = count+1\n",
    "        #print(count) "
   ]
  },
  {
   "cell_type": "code",
   "execution_count": 40,
   "metadata": {},
   "outputs": [],
   "source": [
    "\n",
    "out1 = out1/255.\n",
    "out2 = out2/255."
   ]
  },
  {
   "cell_type": "code",
   "execution_count": 41,
   "metadata": {},
   "outputs": [
    {
     "name": "stdout",
     "output_type": "stream",
     "text": [
      "X_train shape: (4000, 96, 96, 3)\n"
     ]
    }
   ],
   "source": [
    "print (\"X_train shape: \" + str(out1.shape))\n"
   ]
  },
  {
   "cell_type": "code",
   "execution_count": 42,
   "metadata": {},
   "outputs": [
    {
     "data": {
      "text/plain": [
       "'/tensorflow/IITD Database/100/02.bmp'"
      ]
     },
     "execution_count": 42,
     "metadata": {},
     "output_type": "execute_result"
    }
   ],
   "source": [
    "path_input_images + folder_name + '/'+ str(neg_comb1[1][0]).zfill(2)+'.bmp'"
   ]
  },
  {
   "cell_type": "code",
   "execution_count": 43,
   "metadata": {},
   "outputs": [
    {
     "data": {
      "text/plain": [
       "'/tensorflow/IITD Database/100/09.bmp'"
      ]
     },
     "execution_count": 43,
     "metadata": {},
     "output_type": "execute_result"
    }
   ],
   "source": [
    "path_input_images + folder_name + '/'+ str(neg_comb1[1][1]).zfill(2)+'.bmp'"
   ]
  },
  {
   "cell_type": "code",
   "execution_count": 44,
   "metadata": {},
   "outputs": [
    {
     "data": {
      "text/plain": [
       "<matplotlib.image.AxesImage at 0x7faeed0877b8>"
      ]
     },
     "execution_count": 44,
     "metadata": {},
     "output_type": "execute_result"
    },
    {
     "data": {
      "image/png": "[encoded data removed]",
      "text/plain": [
       "<Figure size 432x288 with 1 Axes>"
      ]
     },
     "metadata": {
      "needs_background": "light"
     },
     "output_type": "display_data"
    }
   ],
   "source": [
    "plt.imshow(out1[3])"
   ]
  },
  {
   "cell_type": "code",
   "execution_count": 63,
   "metadata": {},
   "outputs": [],
   "source": [
    "initialize_weights = 'he_normal'\n",
    "initialize_bias = 'he_normal'"
   ]
  },
  {
   "cell_type": "code",
   "execution_count": 71,
   "metadata": {},
   "outputs": [],
   "source": [
    "def Siamese_model(input_shape):\n",
    "    \"\"\"\n",
    "        Model architecture\n",
    "    \"\"\"\n",
    "    \n",
    "    # Define the tensors for the two input images\n",
    "    left_input = Input(input_shape)\n",
    "    right_input = Input(input_shape)\n",
    "    \n",
    "    # Convolutional Neural Network\n",
    "    model = Sequential()\n",
    "    model.add(Conv2D(64, (10,10), activation='relu', input_shape=input_shape,\n",
    "                   kernel_initializer=initialize_weights, kernel_regularizer=l2(2e-4)))\n",
    "    model.add(MaxPooling2D())\n",
    "    model.add(Conv2D(128, (7,7), activation='relu',\n",
    "                     kernel_initializer=initialize_weights,\n",
    "                     bias_initializer=initialize_bias, kernel_regularizer=l2(2e-4)))\n",
    "    model.add(MaxPooling2D())\n",
    "    model.add(Conv2D(128, (4,4), activation='relu', kernel_initializer=initialize_weights,\n",
    "                     bias_initializer=initialize_bias, kernel_regularizer=l2(2e-4)))\n",
    "    model.add(MaxPooling2D())\n",
    "    model.add(Conv2D(256, (4,4), activation='relu', kernel_initializer=initialize_weights,\n",
    "                     bias_initializer=initialize_bias, kernel_regularizer=l2(2e-4)))\n",
    "    model.add(Flatten())\n",
    "    model.add(Dense(4096, activation='sigmoid',\n",
    "                   kernel_regularizer=l2(1e-3),\n",
    "                   kernel_initializer=initialize_weights,bias_initializer=initialize_bias))\n",
    "    \n",
    "    # Generate the encodings (feature vectors) for the two images\n",
    "    encoded_l = model(left_input)\n",
    "    encoded_r = model(right_input)\n",
    "    \n",
    "    # Add a customized layer to compute the absolute difference between the encodings\n",
    "    L1_layer = Lambda(lambda tensors:K.abs(tensors[0] - tensors[1]))\n",
    "    L1_distance = L1_layer([encoded_l, encoded_r])\n",
    "    \n",
    "    # Add a dense layer with a sigmoid unit to generate the similarity score\n",
    "    prediction = Dense(1,activation='sigmoid',bias_initializer=initialize_bias)(L1_distance)\n",
    "    \n",
    "    # Connect the inputs with the outputs\n",
    "    siamese_net = Model(inputs=[left_input,right_input],outputs=prediction,name='Siamese_model')\n",
    "    \n",
    "    # return the model\n",
    "    return siamese_net"
   ]
  },
  {
   "cell_type": "code",
   "execution_count": 72,
   "metadata": {},
   "outputs": [],
   "source": [
    "siamese_model = Siamese_model((96,96,3))"
   ]
  },
  {
   "cell_type": "code",
   "execution_count": 73,
   "metadata": {},
   "outputs": [
    {
     "name": "stdout",
     "output_type": "stream",
     "text": [
      "__________________________________________________________________________________________________\n",
      "Layer (type)                    Output Shape         Param #     Connected to                     \n",
      "==================================================================================================\n",
      "input_15 (InputLayer)           (None, 96, 96, 3)    0                                            \n",
      "__________________________________________________________________________________________________\n",
      "input_16 (InputLayer)           (None, 96, 96, 3)    0                                            \n",
      "__________________________________________________________________________________________________\n",
      "sequential_5 (Sequential)       (None, 4096)         17988928    input_15[0][0]                   \n",
      "                                                                 input_16[0][0]                   \n",
      "__________________________________________________________________________________________________\n",
      "lambda_1 (Lambda)               (None, 4096)         0           sequential_5[1][0]               \n",
      "                                                                 sequential_5[2][0]               \n",
      "__________________________________________________________________________________________________\n",
      "dense_9 (Dense)                 (None, 1)            4097        lambda_1[0][0]                   \n",
      "==================================================================================================\n",
      "Total params: 17,993,025\n",
      "Trainable params: 17,993,025\n",
      "Non-trainable params: 0\n",
      "__________________________________________________________________________________________________\n"
     ]
    }
   ],
   "source": [
    "siamese_model.summary()"
   ]
  },
  {
   "cell_type": "code",
   "execution_count": 74,
   "metadata": {},
   "outputs": [],
   "source": [
    "optimizer = keras.optimizers.Adam(lr = 0.00006)\n",
    "siamese_model.compile(loss='binary_crossentropy', optimizer=optimizer, metrics = [\"accuracy\"])\n",
    "#siamese_model.compile(loss='binary_crossentropy',optimizer=keras.optimizers.SGD(lr=0.001),metrics = ['accuracy'])\n"
   ]
  },
  {
   "cell_type": "code",
   "execution_count": 75,
   "metadata": {},
   "outputs": [
    {
     "name": "stdout",
     "output_type": "stream",
     "text": [
      "Epoch 1/100\n",
      "4000/4000 [==============================] - 48s 12ms/step - loss: 2.9696 - acc: 0.8908\n",
      "Epoch 2/100\n",
      "4000/4000 [==============================] - 46s 12ms/step - loss: 1.1622 - acc: 0.9555\n",
      "Epoch 3/100\n",
      "4000/4000 [==============================] - 47s 12ms/step - loss: 0.7664 - acc: 0.9662\n",
      "Epoch 4/100\n",
      "4000/4000 [==============================] - 47s 12ms/step - loss: 0.5635 - acc: 0.9752\n",
      "Epoch 5/100\n",
      "4000/4000 [==============================] - 47s 12ms/step - loss: 0.4449 - acc: 0.9795\n",
      "Epoch 6/100\n",
      "4000/4000 [==============================] - 47s 12ms/step - loss: 0.3686 - acc: 0.9845\n",
      "Epoch 7/100\n",
      "4000/4000 [==============================] - 47s 12ms/step - loss: 0.3112 - acc: 0.9852\n",
      "Epoch 8/100\n",
      "4000/4000 [==============================] - 47s 12ms/step - loss: 0.2876 - acc: 0.9870\n",
      "Epoch 9/100\n",
      "4000/4000 [==============================] - 47s 12ms/step - loss: 0.2553 - acc: 0.9882\n",
      "Epoch 10/100\n",
      "4000/4000 [==============================] - 47s 12ms/step - loss: 0.2370 - acc: 0.9892\n",
      "Epoch 11/100\n",
      "4000/4000 [==============================] - 47s 12ms/step - loss: 0.2297 - acc: 0.9882\n",
      "Epoch 12/100\n",
      "4000/4000 [==============================] - 47s 12ms/step - loss: 0.2043 - acc: 0.9930\n",
      "Epoch 13/100\n",
      "4000/4000 [==============================] - 47s 12ms/step - loss: 0.2093 - acc: 0.9885\n",
      "Epoch 14/100\n",
      "4000/4000 [==============================] - 47s 12ms/step - loss: 0.2092 - acc: 0.9902\n",
      "Epoch 15/100\n",
      "4000/4000 [==============================] - 47s 12ms/step - loss: 0.1816 - acc: 0.9932\n",
      "Epoch 16/100\n",
      "4000/4000 [==============================] - 47s 12ms/step - loss: 0.1888 - acc: 0.9925\n",
      "Epoch 17/100\n",
      "4000/4000 [==============================] - 47s 12ms/step - loss: 0.1856 - acc: 0.9897\n",
      "Epoch 18/100\n",
      "4000/4000 [==============================] - 47s 12ms/step - loss: 0.1811 - acc: 0.9908\n",
      "Epoch 19/100\n",
      "4000/4000 [==============================] - 47s 12ms/step - loss: 0.1642 - acc: 0.9963\n",
      "Epoch 20/100\n",
      "4000/4000 [==============================] - 47s 12ms/step - loss: 0.1776 - acc: 0.9892\n",
      "Epoch 21/100\n",
      "4000/4000 [==============================] - 47s 12ms/step - loss: 0.1611 - acc: 0.9947\n",
      "Epoch 22/100\n",
      "4000/4000 [==============================] - 47s 12ms/step - loss: 0.1530 - acc: 0.9947\n",
      "Epoch 23/100\n",
      "4000/4000 [==============================] - 47s 12ms/step - loss: 0.1430 - acc: 0.9955\n",
      "Epoch 24/100\n",
      "4000/4000 [==============================] - 47s 12ms/step - loss: 0.1667 - acc: 0.9913\n",
      "Epoch 25/100\n",
      "4000/4000 [==============================] - 47s 12ms/step - loss: 0.1432 - acc: 0.9963\n",
      "Epoch 26/100\n",
      "4000/4000 [==============================] - 47s 12ms/step - loss: 0.1464 - acc: 0.9935\n",
      "Epoch 27/100\n",
      "4000/4000 [==============================] - 47s 12ms/step - loss: 0.1462 - acc: 0.9940\n",
      "Epoch 28/100\n",
      "4000/4000 [==============================] - 47s 12ms/step - loss: 0.1317 - acc: 0.9975\n",
      "Epoch 29/100\n",
      "4000/4000 [==============================] - 47s 12ms/step - loss: 0.1302 - acc: 0.9965\n",
      "Epoch 30/100\n",
      "4000/4000 [==============================] - 47s 12ms/step - loss: 0.1248 - acc: 0.9975\n",
      "Epoch 31/100\n",
      "4000/4000 [==============================] - 47s 12ms/step - loss: 0.1354 - acc: 0.9947\n",
      "Epoch 32/100\n",
      "4000/4000 [==============================] - 47s 12ms/step - loss: 0.1405 - acc: 0.9922\n",
      "Epoch 33/100\n",
      "4000/4000 [==============================] - 47s 12ms/step - loss: 0.1314 - acc: 0.9955\n",
      "Epoch 34/100\n",
      "4000/4000 [==============================] - 47s 12ms/step - loss: 0.1251 - acc: 0.9963\n",
      "Epoch 35/100\n",
      "4000/4000 [==============================] - 47s 12ms/step - loss: 0.1288 - acc: 0.9945\n",
      "Epoch 36/100\n",
      "4000/4000 [==============================] - 47s 12ms/step - loss: 0.1227 - acc: 0.9965\n",
      "Epoch 37/100\n",
      "4000/4000 [==============================] - 47s 12ms/step - loss: 0.1144 - acc: 0.9958\n",
      "Epoch 38/100\n",
      "4000/4000 [==============================] - 47s 12ms/step - loss: 0.1086 - acc: 0.9970\n",
      "Epoch 39/100\n",
      "4000/4000 [==============================] - 47s 12ms/step - loss: 0.1288 - acc: 0.9922\n",
      "Epoch 40/100\n",
      "4000/4000 [==============================] - 47s 12ms/step - loss: 0.1181 - acc: 0.9955\n",
      "Epoch 41/100\n",
      "4000/4000 [==============================] - 47s 12ms/step - loss: 0.0992 - acc: 0.9985\n",
      "Epoch 42/100\n",
      "4000/4000 [==============================] - 47s 12ms/step - loss: 0.1153 - acc: 0.9950\n",
      "Epoch 43/100\n",
      "4000/4000 [==============================] - 47s 12ms/step - loss: 0.1167 - acc: 0.9940\n",
      "Epoch 44/100\n",
      "4000/4000 [==============================] - 47s 12ms/step - loss: 0.1007 - acc: 0.9990\n",
      "Epoch 45/100\n",
      "4000/4000 [==============================] - 47s 12ms/step - loss: 0.0955 - acc: 0.9980\n",
      "Epoch 46/100\n",
      "4000/4000 [==============================] - 47s 12ms/step - loss: 0.0966 - acc: 0.9972\n",
      "Epoch 47/100\n",
      "4000/4000 [==============================] - 47s 12ms/step - loss: 0.1151 - acc: 0.9935\n",
      "Epoch 48/100\n",
      "4000/4000 [==============================] - 47s 12ms/step - loss: 0.0965 - acc: 0.9970\n",
      "Epoch 49/100\n",
      "4000/4000 [==============================] - 47s 12ms/step - loss: 0.1025 - acc: 0.9947\n",
      "Epoch 50/100\n",
      "4000/4000 [==============================] - 47s 12ms/step - loss: 0.1058 - acc: 0.9947\n",
      "Epoch 51/100\n",
      "4000/4000 [==============================] - 47s 12ms/step - loss: 0.0939 - acc: 0.9978\n",
      "Epoch 52/100\n",
      "4000/4000 [==============================] - 47s 12ms/step - loss: 0.0868 - acc: 0.9982\n",
      "Epoch 53/100\n",
      "4000/4000 [==============================] - 47s 12ms/step - loss: 0.0971 - acc: 0.9960\n",
      "Epoch 54/100\n",
      "4000/4000 [==============================] - 47s 12ms/step - loss: 0.0960 - acc: 0.9950\n",
      "Epoch 55/100\n",
      "4000/4000 [==============================] - 47s 12ms/step - loss: 0.0886 - acc: 0.9978\n",
      "Epoch 56/100\n",
      "4000/4000 [==============================] - 47s 12ms/step - loss: 0.0853 - acc: 0.9982\n",
      "Epoch 57/100\n",
      "4000/4000 [==============================] - 47s 12ms/step - loss: 0.0960 - acc: 0.9953\n",
      "Epoch 58/100\n",
      "4000/4000 [==============================] - 47s 12ms/step - loss: 0.0866 - acc: 0.9980\n",
      "Epoch 59/100\n",
      "4000/4000 [==============================] - 47s 12ms/step - loss: 0.0758 - acc: 0.9978\n",
      "Epoch 60/100\n",
      "4000/4000 [==============================] - 47s 12ms/step - loss: 0.0969 - acc: 0.9950\n",
      "Epoch 61/100\n",
      "4000/4000 [==============================] - 47s 12ms/step - loss: 0.0794 - acc: 0.9975\n",
      "Epoch 62/100\n",
      "4000/4000 [==============================] - 47s 12ms/step - loss: 0.0823 - acc: 0.9978\n",
      "Epoch 63/100\n",
      "4000/4000 [==============================] - 47s 12ms/step - loss: 0.0944 - acc: 0.9945\n",
      "Epoch 64/100\n",
      "4000/4000 [==============================] - 47s 12ms/step - loss: 0.0824 - acc: 0.9978\n",
      "Epoch 65/100\n",
      "4000/4000 [==============================] - 47s 12ms/step - loss: 0.0851 - acc: 0.9965\n",
      "Epoch 66/100\n",
      "4000/4000 [==============================] - 47s 12ms/step - loss: 0.0869 - acc: 0.9955\n",
      "Epoch 67/100\n",
      "4000/4000 [==============================] - 47s 12ms/step - loss: 0.0764 - acc: 0.9980\n",
      "Epoch 68/100\n",
      "4000/4000 [==============================] - 47s 12ms/step - loss: 0.0708 - acc: 0.9982\n",
      "Epoch 69/100\n",
      "4000/4000 [==============================] - 47s 12ms/step - loss: 0.0832 - acc: 0.9950\n",
      "Epoch 70/100\n",
      "4000/4000 [==============================] - 47s 12ms/step - loss: 0.0746 - acc: 0.9990\n",
      "Epoch 71/100\n",
      "4000/4000 [==============================] - 47s 12ms/step - loss: 0.0598 - acc: 0.9995\n",
      "Epoch 72/100\n",
      "4000/4000 [==============================] - 47s 12ms/step - loss: 0.0905 - acc: 0.9945\n",
      "Epoch 73/100\n",
      "4000/4000 [==============================] - 47s 12ms/step - loss: 0.0870 - acc: 0.9942\n",
      "Epoch 74/100\n",
      "4000/4000 [==============================] - 47s 12ms/step - loss: 0.0703 - acc: 0.9985\n",
      "Epoch 75/100\n",
      "4000/4000 [==============================] - 47s 12ms/step - loss: 0.0705 - acc: 0.9975\n",
      "Epoch 76/100\n",
      "4000/4000 [==============================] - 47s 12ms/step - loss: 0.0833 - acc: 0.9960\n",
      "Epoch 77/100\n",
      "4000/4000 [==============================] - 47s 12ms/step - loss: 0.0676 - acc: 0.9982\n",
      "Epoch 78/100\n",
      "4000/4000 [==============================] - 47s 12ms/step - loss: 0.0708 - acc: 0.9980\n",
      "Epoch 79/100\n",
      "4000/4000 [==============================] - 47s 12ms/step - loss: 0.0849 - acc: 0.9960\n",
      "Epoch 80/100\n",
      "4000/4000 [==============================] - 47s 12ms/step - loss: 0.0720 - acc: 0.9978\n",
      "Epoch 81/100\n",
      "4000/4000 [==============================] - 47s 12ms/step - loss: 0.0641 - acc: 0.9990\n",
      "Epoch 82/100\n"
     ]
    },
    {
     "name": "stdout",
     "output_type": "stream",
     "text": [
      "4000/4000 [==============================] - 46s 12ms/step - loss: 0.0805 - acc: 0.9945\n",
      "Epoch 83/100\n",
      "4000/4000 [==============================] - 46s 12ms/step - loss: 0.0779 - acc: 0.9958\n",
      "Epoch 84/100\n",
      "4000/4000 [==============================] - 46s 12ms/step - loss: 0.0645 - acc: 0.9990\n",
      "Epoch 85/100\n",
      "4000/4000 [==============================] - 46s 12ms/step - loss: 0.0698 - acc: 0.9970\n",
      "Epoch 86/100\n",
      "4000/4000 [==============================] - 47s 12ms/step - loss: 0.0627 - acc: 0.9985\n",
      "Epoch 87/100\n",
      "4000/4000 [==============================] - 47s 12ms/step - loss: 0.0646 - acc: 0.9978\n",
      "Epoch 88/100\n",
      "4000/4000 [==============================] - 47s 12ms/step - loss: 0.0575 - acc: 0.9992\n",
      "Epoch 89/100\n",
      "4000/4000 [==============================] - 47s 12ms/step - loss: 0.0763 - acc: 0.9947\n",
      "Epoch 90/100\n",
      "4000/4000 [==============================] - 47s 12ms/step - loss: 0.0668 - acc: 0.9982\n",
      "Epoch 91/100\n",
      "4000/4000 [==============================] - 47s 12ms/step - loss: 0.0684 - acc: 0.9963\n",
      "Epoch 92/100\n",
      "4000/4000 [==============================] - 47s 12ms/step - loss: 0.0735 - acc: 0.9960\n",
      "Epoch 93/100\n",
      "4000/4000 [==============================] - 47s 12ms/step - loss: 0.0630 - acc: 0.9975\n",
      "Epoch 94/100\n",
      "4000/4000 [==============================] - 47s 12ms/step - loss: 0.0681 - acc: 0.9970\n",
      "Epoch 95/100\n",
      "4000/4000 [==============================] - 47s 12ms/step - loss: 0.0597 - acc: 0.9982\n",
      "Epoch 96/100\n",
      "4000/4000 [==============================] - 47s 12ms/step - loss: 0.0672 - acc: 0.9960\n",
      "Epoch 97/100\n",
      "4000/4000 [==============================] - 47s 12ms/step - loss: 0.0631 - acc: 0.9972\n",
      "Epoch 98/100\n",
      "4000/4000 [==============================] - 47s 12ms/step - loss: 0.0636 - acc: 0.9970\n",
      "Epoch 99/100\n",
      "4000/4000 [==============================] - 47s 12ms/step - loss: 0.0644 - acc: 0.9965\n",
      "Epoch 100/100\n",
      "4000/4000 [==============================] - 47s 12ms/step - loss: 0.0650 - acc: 0.9958\n"
     ]
    },
    {
     "data": {
      "text/plain": [
       "<keras.callbacks.History at 0x7faeec66f470>"
      ]
     },
     "execution_count": 75,
     "metadata": {},
     "output_type": "execute_result"
    }
   ],
   "source": [
    "siamese_model.fit([out1,out2],y,epochs=100, batch_size = 4)"
   ]
  },
  {
   "cell_type": "code",
   "execution_count": null,
   "metadata": {},
   "outputs": [],
   "source": []
  }
 ],
 "metadata": {
  "kernelspec": {
   "display_name": "Python 3",
   "language": "python",
   "name": "python3"
  },
  "language_info": {
   "codemirror_mode": {
    "name": "ipython",
    "version": 3
   },
   "file_extension": ".py",
   "mimetype": "text/x-python",
   "name": "python",
   "nbconvert_exporter": "python",
   "pygments_lexer": "ipython3",
   "version": "3.5.3"
  }
 },
 "nbformat": 4,
 "nbformat_minor": 2
}
