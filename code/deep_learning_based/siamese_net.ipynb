{
 "cells": [
  {
   "cell_type": "code",
   "execution_count": 1,
   "metadata": {},
   "outputs": [],
   "source": [
    "import cv2 \n",
    "import numpy as np\n",
    "import glob\n",
    "import os\n",
    "from itertools import combinations \n",
    "from itertools import product\n",
    "import random\n"
   ]
  },
  {
   "cell_type": "code",
   "execution_count": 2,
   "metadata": {},
   "outputs": [
    {
     "name": "stderr",
     "output_type": "stream",
     "text": [
      "Using TensorFlow backend.\n"
     ]
    }
   ],
   "source": [
    "import keras \n",
    "from keras.layers import Dense, MaxPooling2D, Convolution2D, Dropout, Input, Flatten, Subtract, merge\n",
    "from keras.layers.normalization import BatchNormalization\n",
    "from keras import backend as K\n",
    "from keras.models import Model"
   ]
  },
  {
   "cell_type": "code",
   "execution_count": 3,
   "metadata": {},
   "outputs": [],
   "source": [
    "path_input_images =  '/tensorflow/IITD Database/'"
   ]
  },
  {
   "cell_type": "code",
   "execution_count": 4,
   "metadata": {},
   "outputs": [],
   "source": [
    "folder_name_list = np.sort(os.listdir(path_input_images))\n",
    "out1= np.zeros((8000,256,256,3),'float')\n",
    "out2= np.zeros((8000,256,256,3),'float')\n",
    "\n",
    "pos_comb1 = np.array(list(combinations([1, 2, 3, 4, 5], 2)))\n",
    "pos_comb2 = np.array(list(combinations([6, 7, 8, 9, 10], 2)))\n",
    "\n",
    "neg_comb1 = np.array(list(product([2,3,4,5], [8,9,10])))\n",
    "\n",
    "count = 0\n",
    "y = []\n",
    "for folder_name in folder_name_list[:200]:\n",
    "    \n",
    "    for i in range (len(pos_comb1)):\n",
    "        \n",
    "        img1_0 = cv2.imread(path_input_images + folder_name + '/'+ str(pos_comb1[i][0]).zfill(2)+'.bmp')\n",
    "        img1_0 = cv2.resize(img1_0,(256,256))\n",
    "        img1_1 = cv2.imread(path_input_images + folder_name + '/'+ str(pos_comb1[i][1]).zfill(2)+'.bmp')\n",
    "        img1_1 = cv2.resize(img1_1,(256,256))\n",
    "        out1[count]  = img1_0\n",
    "        out2[count]  = img1_1\n",
    "        count = count+1\n",
    "        y.append(1)\n",
    "        \n",
    "        img2_0 = cv2.imread(path_input_images + folder_name + '/'+ str(pos_comb2[i][0]).zfill(2)+'.bmp')\n",
    "        img2_1 = cv2.imread(path_input_images + folder_name + '/'+ str(pos_comb2[i][1]).zfill(2)+'.bmp')\n",
    "        img2_0 = cv2.resize(img2_0,(256,256))\n",
    "        img2_1 = cv2.resize(img2_1,(256,256))\n",
    "        out1[count]  = img2_0\n",
    "        out2[count]  = img2_1\n",
    "        y.append(1)\n",
    "        count = count+1\n",
    "        \n",
    "        img3_0 = cv2.imread(path_input_images + folder_name + '/'+ str(neg_comb1[i][0]).zfill(2)+'.bmp')\n",
    "        img3_1 = cv2.imread(path_input_images + folder_name + '/'+ str(neg_comb1[i][1]).zfill(2)+'.bmp') \n",
    "        \n",
    "        img3_0 = cv2.resize(img3_0,(256,256))\n",
    "        img3_1 = cv2.resize(img3_1,(256,256))\n",
    "        out1[count]  = img3_0\n",
    "        out2[count]  = img3_1\n",
    "        y.append(0)\n",
    "        count = count+1\n",
    "        \n",
    "        folder_name1 = str(int(folder_name) + 3).zfill(3) \n",
    "        \n",
    "        img4_0 = cv2.imread(path_input_images + folder_name + '/'+ str(pos_comb1[i][0]).zfill(2)+'.bmp')\n",
    "        img4_1 = cv2.imread(path_input_images + folder_name1 + '/'+ str(pos_comb1[i][1]).zfill(2)+'.bmp') \n",
    "        img4_0 = cv2.resize(img4_0,(256,256))\n",
    "        img4_1 = cv2.resize(img4_1,(256,256))\n",
    "        out1[count]  = img4_0\n",
    "        out2[count]  = img4_1\n",
    "        y.append(0)\n",
    "        count = count+1\n",
    "        #print(count) "
   ]
  },
  {
   "cell_type": "code",
   "execution_count": 5,
   "metadata": {},
   "outputs": [
    {
     "ename": "MemoryError",
     "evalue": "",
     "output_type": "error",
     "traceback": [
      "\u001b[0;31m---------------------------------------------------------------------------\u001b[0m",
      "\u001b[0;31mMemoryError\u001b[0m                               Traceback (most recent call last)",
      "\u001b[0;32m<ipython-input-5-2ac52d0e9883>\u001b[0m in \u001b[0;36m<module>\u001b[0;34m\u001b[0m\n\u001b[0;32m----> 1\u001b[0;31m \u001b[0mout1\u001b[0m \u001b[0;34m=\u001b[0m \u001b[0mout1\u001b[0m\u001b[0;34m/\u001b[0m\u001b[0;36m255.\u001b[0m\u001b[0;34m\u001b[0m\u001b[0m\n\u001b[0m\u001b[1;32m      2\u001b[0m \u001b[0mout2\u001b[0m \u001b[0;34m=\u001b[0m \u001b[0mout2\u001b[0m\u001b[0;34m/\u001b[0m\u001b[0;36m255.\u001b[0m\u001b[0;34m\u001b[0m\u001b[0m\n",
      "\u001b[0;31mMemoryError\u001b[0m: "
     ]
    }
   ],
   "source": [
    "\n",
    "out1 = out1/255.\n",
    "out2 = out2/255."
   ]
  },
  {
   "cell_type": "code",
   "execution_count": null,
   "metadata": {},
   "outputs": [],
   "source": [
    "print (\"X_train shape: \" + str(out1_train.shape))\n"
   ]
  },
  {
   "cell_type": "code",
   "execution_count": null,
   "metadata": {},
   "outputs": [],
   "source": [
    "path_input_images + folder_name + str(pos_comb1[i][0]).zfill(2)+'.bmp'"
   ]
  },
  {
   "cell_type": "code",
   "execution_count": null,
   "metadata": {},
   "outputs": [],
   "source": []
  },
  {
   "cell_type": "code",
   "execution_count": null,
   "metadata": {},
   "outputs": [],
   "source": []
  },
  {
   "cell_type": "code",
   "execution_count": null,
   "metadata": {},
   "outputs": [],
   "source": []
  },
  {
   "cell_type": "code",
   "execution_count": null,
   "metadata": {},
   "outputs": [],
   "source": [
    "def Siamese_model(input_shape):    \n",
    "    inp_1 = Input(shape=input_shape)\n",
    "    conv_1 = Convolution2D(64,(10,10),activation='relu')(inp_1)\n",
    "    max_2 = MaxPooling2D((2,2),strides=(2,2))(conv_1)\n",
    "    conv_3 = Convolution2D(128,(7,7),activation='relu')(max_2)\n",
    "    max_4 = MaxPooling2D((2,2),strides=(2,2))(conv_3)\n",
    "    conv_5 = Convolution2D(128,(4,4),activation='relu')(max_4)\n",
    "    max_6 = MaxPooling2D((2,2),strides=(2,2))(conv_5)\n",
    "    conv_7 = Convolution2D(256,(4,4),activation='relu')(max_6)\n",
    "    fcl = Flatten()(conv_7)\n",
    "    dense_1 = Dense(4096,activation='relu')(fcl)\n",
    "\n",
    "    inp_2 = Input(shape=input_shape)\n",
    "    conv2_1 = Convolution2D(64,(10,10),activation='relu')(inp_2)\n",
    "    max2_2 = MaxPooling2D((2,2),strides=(2,2))(conv2_1)\n",
    "    conv2_3 = Convolution2D(128,(7,7),activation='relu')(max2_2)\n",
    "    max2_4 = MaxPooling2D((2,2),strides=(2,2))(conv2_3)\n",
    "    conv2_5 = Convolution2D(128,(4,4),activation='relu')(max2_4)\n",
    "    max2_6 = MaxPooling2D((2,2),strides=(2,2))(conv2_5)\n",
    "    conv2_7 = Convolution2D(256,(4,4),activation='relu')(max2_6)\n",
    "    fcl2 = Flatten()(conv2_7)\n",
    "    dense2_1 = Dense(4096,activation='relu')(fcl2)\n",
    "\n",
    "    L1_distance = lambda x: K.abs(x[0]-x[1])\n",
    "    dense_layer = merge([dense_1,dense2_1], mode = L1_distance, output_shape=lambda x: x[0])\n",
    "\n",
    "    out = Dense(1,activation='softmax')(dense_layer)\n",
    "    \n",
    "    model = Model(inputs=[inp_1,inp_2],outputs=out,name='Siamese_model')\n",
    "    return model"
   ]
  },
  {
   "cell_type": "code",
   "execution_count": null,
   "metadata": {},
   "outputs": [],
   "source": [
    "siamese_model = Siamese_model((256,256,3))"
   ]
  },
  {
   "cell_type": "code",
   "execution_count": null,
   "metadata": {},
   "outputs": [],
   "source": [
    "siamese_model.summary()"
   ]
  },
  {
   "cell_type": "code",
   "execution_count": null,
   "metadata": {},
   "outputs": [],
   "source": [
    "siamese_model.compile(loss='binary_crossentropy', optimizer=\"Adam\", metrics = [\"accuracy\"])"
   ]
  },
  {
   "cell_type": "code",
   "execution_count": null,
   "metadata": {},
   "outputs": [],
   "source": [
    "siamese_model.fit([out1,out2],y,epochs=10, batch_size = 4)"
   ]
  },
  {
   "cell_type": "code",
   "execution_count": null,
   "metadata": {},
   "outputs": [],
   "source": []
  }
 ],
 "metadata": {
  "kernelspec": {
   "display_name": "Python 3",
   "language": "python",
   "name": "python3"
  },
  "language_info": {
   "codemirror_mode": {
    "name": "ipython",
    "version": 3
   },
   "file_extension": ".py",
   "mimetype": "text/x-python",
   "name": "python",
   "nbconvert_exporter": "python",
   "pygments_lexer": "ipython3",
   "version": "3.5.3"
  }
 },
 "nbformat": 4,
 "nbformat_minor": 2
}
